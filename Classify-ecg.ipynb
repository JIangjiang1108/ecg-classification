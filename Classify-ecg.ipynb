{
 "cells": [
  {
   "cell_type": "code",
   "execution_count": 1,
   "metadata": {},
   "outputs": [
    {
     "name": "stderr",
     "output_type": "stream",
     "text": [
      "Using TensorFlow backend.\n"
     ]
    }
   ],
   "source": [
    "from wfdb import io, plot\n",
    "import wfdb\n",
    "import os\n",
    "import gc\n",
    "import numpy as np\n",
    "import matplotlib.pyplot as plt\n",
    "from tqdm import tqdm_notebook as tqdm\n",
    "%matplotlib notebook\n",
    "import pandas as pd\n",
    "import math\n",
    "from keras.models import Sequential\n",
    "from keras.layers import Dense\n",
    "from keras.layers import Dropout, Input\n",
    "from keras.layers import CuDNNLSTM as LSTM\n",
    "from keras.callbacks import ModelCheckpoint\n",
    "from sklearn.metrics import confusion_matrix\n",
    "import keras"
   ]
  },
  {
   "cell_type": "code",
   "execution_count": 2,
   "metadata": {},
   "outputs": [],
   "source": [
    "def comments_to_dict(comments):\n",
    "    key_value_pairs = [comment.split(':') for comment in comments]\n",
    "    return {pair[0]: pair[1] for pair in key_value_pairs}    "
   ]
  },
  {
   "cell_type": "code",
   "execution_count": 7,
   "metadata": {},
   "outputs": [],
   "source": [
    "#TODO save this locally\n",
    "db = 'ptbdb'\n",
    "record_names = io.get_record_list(db)"
   ]
  },
  {
   "cell_type": "code",
   "execution_count": 3,
   "metadata": {},
   "outputs": [],
   "source": [
    "def record_to_row(record, patient_id):\n",
    "    row = {}\n",
    "    row['patient'] = patient_id\n",
    "    row['name'] = record.record_name\n",
    "    row['label'] = comments_to_dict(record.comments)['Reason for admission'][1:]\n",
    "    row['signals'] = record.p_signal\n",
    "    row['signal_length'] = record.sig_len\n",
    "    channels = record.sig_name\n",
    "    signals = record.p_signal.transpose()\n",
    "    \n",
    "    row['channels'] = channels\n",
    "    \n",
    "    for channel, signal in zip(channels, signals):\n",
    "        row[channel] = signal\n",
    "        \n",
    "    return row"
   ]
  },
  {
   "cell_type": "code",
   "execution_count": 6,
   "metadata": {},
   "outputs": [
    {
     "ename": "NameError",
     "evalue": "name 'record_names' is not defined",
     "output_type": "error",
     "traceback": [
      "\u001b[1;31m---------------------------------------------------------------------------\u001b[0m",
      "\u001b[1;31mNameError\u001b[0m                                 Traceback (most recent call last)",
      "\u001b[1;32m<ipython-input-6-bac5dc6f34bb>\u001b[0m in \u001b[0;36m<module>\u001b[1;34m()\u001b[0m\n\u001b[0;32m      1\u001b[0m \u001b[0mrecords\u001b[0m \u001b[1;33m=\u001b[0m \u001b[1;33m[\u001b[0m\u001b[1;33m]\u001b[0m\u001b[1;33m\u001b[0m\u001b[0m\n\u001b[1;32m----> 2\u001b[1;33m \u001b[1;32mfor\u001b[0m \u001b[0mrecord_name\u001b[0m \u001b[1;32min\u001b[0m \u001b[0mtqdm\u001b[0m\u001b[1;33m(\u001b[0m\u001b[0mrecord_names\u001b[0m\u001b[1;33m)\u001b[0m\u001b[1;33m:\u001b[0m\u001b[1;33m\u001b[0m\u001b[0m\n\u001b[0m\u001b[0;32m      3\u001b[0m     \u001b[0mrecord\u001b[0m \u001b[1;33m=\u001b[0m \u001b[0mio\u001b[0m\u001b[1;33m.\u001b[0m\u001b[0mrdrecord\u001b[0m\u001b[1;33m(\u001b[0m\u001b[0mrecord_name\u001b[0m\u001b[1;33m=\u001b[0m\u001b[0mos\u001b[0m\u001b[1;33m.\u001b[0m\u001b[0mpath\u001b[0m\u001b[1;33m.\u001b[0m\u001b[0mjoin\u001b[0m\u001b[1;33m(\u001b[0m\u001b[1;34m'data'\u001b[0m\u001b[1;33m,\u001b[0m \u001b[0mrecord_name\u001b[0m\u001b[1;33m)\u001b[0m\u001b[1;33m)\u001b[0m\u001b[1;33m\u001b[0m\u001b[0m\n\u001b[0;32m      4\u001b[0m     \u001b[0mlabel\u001b[0m \u001b[1;33m=\u001b[0m \u001b[0mcomments_to_dict\u001b[0m\u001b[1;33m(\u001b[0m\u001b[0mrecord\u001b[0m\u001b[1;33m.\u001b[0m\u001b[0mcomments\u001b[0m\u001b[1;33m)\u001b[0m\u001b[1;33m[\u001b[0m\u001b[1;34m'Reason for admission'\u001b[0m\u001b[1;33m]\u001b[0m\u001b[1;33m[\u001b[0m\u001b[1;36m1\u001b[0m\u001b[1;33m:\u001b[0m\u001b[1;33m]\u001b[0m\u001b[1;33m\u001b[0m\u001b[0m\n\u001b[0;32m      5\u001b[0m     \u001b[0mrecords\u001b[0m\u001b[1;33m.\u001b[0m\u001b[0mappend\u001b[0m\u001b[1;33m(\u001b[0m\u001b[0mrecord_to_row\u001b[0m\u001b[1;33m(\u001b[0m\u001b[0mrecord\u001b[0m\u001b[1;33m,\u001b[0m \u001b[0mrecord_name\u001b[0m\u001b[1;33m.\u001b[0m\u001b[0msplit\u001b[0m\u001b[1;33m(\u001b[0m\u001b[1;34m'/'\u001b[0m\u001b[1;33m)\u001b[0m\u001b[1;33m[\u001b[0m\u001b[1;36m0\u001b[0m\u001b[1;33m]\u001b[0m\u001b[1;33m)\u001b[0m\u001b[1;33m)\u001b[0m\u001b[1;33m\u001b[0m\u001b[0m\n",
      "\u001b[1;31mNameError\u001b[0m: name 'record_names' is not defined"
     ]
    }
   ],
   "source": [
    "records = []\n",
    "for record_name in tqdm(record_names):\n",
    "    record = io.rdrecord(record_name=os.path.join('data', record_name))\n",
    "    label = comments_to_dict(record.comments)['Reason for admission'][1:]\n",
    "    records.append(record_to_row(record, record_name.split('/')[0]))\n",
    "    \n",
    "channels = record.sig_name\n",
    "df_records = pd.DataFrame(records)    "
   ]
  },
  {
   "cell_type": "code",
   "execution_count": 5,
   "metadata": {},
   "outputs": [
    {
     "ename": "NameError",
     "evalue": "name 'df_records' is not defined",
     "output_type": "error",
     "traceback": [
      "\u001b[1;31m---------------------------------------------------------------------------\u001b[0m",
      "\u001b[1;31mNameError\u001b[0m                                 Traceback (most recent call last)",
      "\u001b[1;32m<ipython-input-5-97fbbc56dd36>\u001b[0m in \u001b[0;36m<module>\u001b[1;34m()\u001b[0m\n\u001b[1;32m----> 1\u001b[1;33m \u001b[0mlabels\u001b[0m \u001b[1;33m=\u001b[0m \u001b[0mdf_records\u001b[0m\u001b[1;33m[\u001b[0m\u001b[1;34m'label'\u001b[0m\u001b[1;33m]\u001b[0m\u001b[1;33m.\u001b[0m\u001b[0munique\u001b[0m\u001b[1;33m(\u001b[0m\u001b[1;33m)\u001b[0m\u001b[1;33m\u001b[0m\u001b[0m\n\u001b[0m\u001b[0;32m      2\u001b[0m \u001b[0mdf_records\u001b[0m\u001b[1;33m[\u001b[0m\u001b[1;34m'label'\u001b[0m\u001b[1;33m]\u001b[0m\u001b[1;33m.\u001b[0m\u001b[0mvalue_counts\u001b[0m\u001b[1;33m(\u001b[0m\u001b[1;33m)\u001b[0m\u001b[1;33m\u001b[0m\u001b[0m\n",
      "\u001b[1;31mNameError\u001b[0m: name 'df_records' is not defined"
     ]
    }
   ],
   "source": [
    "labels = df_records['label'].unique()\n",
    "df_records['label'].value_counts()"
   ]
  },
  {
   "cell_type": "code",
   "execution_count": 96,
   "metadata": {},
   "outputs": [],
   "source": [
    "selected_labels = ['Healthy control', 'Myocardial infarction', 'Bundle branch block', 'Dysrhythmia', 'Hypertrophy']\n",
    "df_selected = df_records.loc[df_records['label'].isin(selected_labels)]\n",
    "label_map = {label: value for label, value in zip(selected_labels, range(len(selected_labels)))}"
   ]
  },
  {
   "cell_type": "code",
   "execution_count": 97,
   "metadata": {},
   "outputs": [],
   "source": [
    "test_patients = []\n",
    "train_patients = []\n",
    "test_size = 0.33\n",
    "channels\n",
    "for label in selected_labels:\n",
    "    df_selected = df_records.loc[df_records['label'] == label]\n",
    "    patients = df_selected['patient'].unique()\n",
    "    n_test = math.ceil(len(patients)*test_size)\n",
    "    test_patients+=list(np.random.choice(patients, n_test, replace=False))\n",
    "    train_patients+=list(patients[np.isin(patients, test_patients, invert=True)])\n",
    "#df_selected['patient'].sample(len())"
   ]
  },
  {
   "cell_type": "code",
   "execution_count": 98,
   "metadata": {},
   "outputs": [],
   "source": [
    "def make_set(df_data, channels, label_map, window_size=2048):\n",
    "    n_windows = 0\n",
    "    \n",
    "    for _, record in tqdm(df_data.iterrows()):\n",
    "        n_windows+= record['signals'].shape[0]//window_size\n",
    "\n",
    "    dataX = np.zeros((n_windows, len(channels), window_size))\n",
    "    dataY = np.zeros((n_windows, len(label_map)))\n",
    "\n",
    "    nth_window = 0\n",
    "    for i, (_, record) in enumerate(tqdm(df_data.iterrows())):\n",
    "        # Set class\n",
    "        \n",
    "        data = record['signals'].transpose()\n",
    "        n_rows = data.shape[-1]\n",
    "        n_windows = n_rows//window_size\n",
    "        dataX[nth_window:nth_window+n_windows] = np.array([data[:,i*window_size:(i+1)*window_size] for i in range(n_windows)])\n",
    "        dataY[nth_window:nth_window+n_windows][:, label_map[record.label]] = 1\n",
    "        nth_window+=n_windows\n",
    "        \n",
    "    return dataX, dataY"
   ]
  },
  {
   "cell_type": "code",
   "execution_count": 99,
   "metadata": {},
   "outputs": [
    {
     "data": {
      "application/vnd.jupyter.widget-view+json": {
       "model_id": "0f42a91e8cc04c1392df260a641620b1",
       "version_major": 2,
       "version_minor": 0
      },
      "text/plain": [
       "HBox(children=(IntProgress(value=1, bar_style='info', max=1), HTML(value='')))"
      ]
     },
     "metadata": {},
     "output_type": "display_data"
    },
    {
     "name": "stdout",
     "output_type": "stream",
     "text": [
      "\n"
     ]
    },
    {
     "data": {
      "application/vnd.jupyter.widget-view+json": {
       "model_id": "e9805c0ca6e94a9c9b5227bc97bcee82",
       "version_major": 2,
       "version_minor": 0
      },
      "text/plain": [
       "HBox(children=(IntProgress(value=1, bar_style='info', max=1), HTML(value='')))"
      ]
     },
     "metadata": {},
     "output_type": "display_data"
    },
    {
     "name": "stdout",
     "output_type": "stream",
     "text": [
      "\n"
     ]
    },
    {
     "data": {
      "application/vnd.jupyter.widget-view+json": {
       "model_id": "2dc1a84cf24e4dff96167c71b22eb2a1",
       "version_major": 2,
       "version_minor": 0
      },
      "text/plain": [
       "HBox(children=(IntProgress(value=1, bar_style='info', max=1), HTML(value='')))"
      ]
     },
     "metadata": {},
     "output_type": "display_data"
    },
    {
     "name": "stdout",
     "output_type": "stream",
     "text": [
      "\n"
     ]
    },
    {
     "data": {
      "application/vnd.jupyter.widget-view+json": {
       "model_id": "c34b7984a62448dbb360f5d85ee293fe",
       "version_major": 2,
       "version_minor": 0
      },
      "text/plain": [
       "HBox(children=(IntProgress(value=1, bar_style='info', max=1), HTML(value='')))"
      ]
     },
     "metadata": {},
     "output_type": "display_data"
    },
    {
     "name": "stdout",
     "output_type": "stream",
     "text": [
      "\n"
     ]
    }
   ],
   "source": [
    "df_patient_records = df_records.set_index('patient')\n",
    "df_train_patients = df_patient_records.loc[train_patients]\n",
    "df_test_patients = df_patient_records.loc[train_patients]\n",
    "trainX, trainY = make_set(df_train_patients, channels, label_map)\n",
    "testX, testY = make_set(df_test_patients, channels, label_map)"
   ]
  },
  {
   "cell_type": "code",
   "execution_count": 75,
   "metadata": {},
   "outputs": [
    {
     "data": {
      "application/vnd.jupyter.widget-view+json": {
       "model_id": "adc4241ee94b4606ac3b2ed20d9e0b62",
       "version_major": 2,
       "version_minor": 0
      },
      "text/plain": [
       "HBox(children=(IntProgress(value=1, bar_style='info', max=1), HTML(value='')))"
      ]
     },
     "metadata": {},
     "output_type": "display_data"
    },
    {
     "name": "stdout",
     "output_type": "stream",
     "text": [
      "\n"
     ]
    }
   ],
   "source": [
    "window_size=2048\n",
    "n_windows = 0\n",
    "nth_window = 0\n",
    "for _, record in tqdm(df_test_patients.iterrows()):\n",
    "    n_windows+= record['signals'].shape[0]//window_size\n",
    "\n",
    "dataX = np.zeros((n_windows, len(channels), window_size))\n",
    "dataY = np.zeros((n_windows, len(label_map)))"
   ]
  },
  {
   "cell_type": "code",
   "execution_count": null,
   "metadata": {},
   "outputs": [],
   "source": [
    "def make_model_enc_dec(input_shape, output_dim, stateful=False, dropout=0.2):\n",
    "    print(\"model dim: \", input_shape, output_dim)\n",
    "    model = Sequential()\n",
    "    model.add(LSTM(256, return_sequences=True, input_shape=input_shape, batch_size=None, stateful=stateful))\n",
    "    model.add(Dropout(dropout))\n",
    "    model.add(LSTM(128, return_sequences=True), stateful=stateful)\n",
    "    model.add(Dropout(dropout))\n",
    "    model.add(LSTM(64), return_sequences=True, stateful=stateful)\n",
    "    model.add(Dropout(dropout))\n",
    "    model.add(LSTM(128), return_sequences=True, stageful=stateful)\n",
    "    model.add(Dropout(dropout))\n",
    "    model.add(LSTM(256), return_sequences=True, stageful=stateful)\n",
    "    model.add(Dropout(dropout))\n",
    "    model.add(LSTM(input_shape[-1]))\n",
    "    #model.add(Dense(output_dim, activation='softmax'))\n",
    "    model.compile(loss='categorical_crossentropy', optimizer='adam')\n",
    "    \n",
    "    return model\n"
   ]
  },
  {
   "cell_type": "code",
   "execution_count": 100,
   "metadata": {},
   "outputs": [],
   "source": [
    "def make_model(input_shape, output_dim):\n",
    "    print(\"model dim: \", input_shape, output_dim)\n",
    "    model = Sequential()\n",
    "    model.add(LSTM(256, return_sequences=True, input_shape=input_shape, batch_size=None))\n",
    "    model.add(Dropout(0.2))\n",
    "    model.add(LSTM(128, return_sequences=True))\n",
    "    model.add(Dropout(0.2))\n",
    "    model.add(LSTM(64))\n",
    "    model.add(Dropout(0.2))\n",
    "    model.add(Dense(output_dim, activation='softmax'))\n",
    "    model.compile(loss='categorical_crossentropy', optimizer='adam')\n",
    "    \n",
    "    return model"
   ]
  },
  {
   "cell_type": "code",
   "execution_count": 101,
   "metadata": {},
   "outputs": [
    {
     "name": "stdout",
     "output_type": "stream",
     "text": [
      "model dim:  (15, 2048) 5\n",
      "Epoch 1/50\n",
      "17286/17286 [==============================] - ETA: 1:11 - loss: 1.642 - ETA: 53s - loss: 1.458 - ETA: 45s - loss: 1.30 - ETA: 40s - loss: 1.19 - ETA: 34s - loss: 1.13 - ETA: 30s - loss: 1.08 - ETA: 26s - loss: 1.05 - ETA: 24s - loss: 1.02 - ETA: 21s - loss: 0.99 - ETA: 19s - loss: 0.97 - ETA: 18s - loss: 0.95 - ETA: 16s - loss: 0.95 - ETA: 15s - loss: 0.93 - ETA: 14s - loss: 0.93 - ETA: 13s - loss: 0.92 - ETA: 12s - loss: 0.91 - ETA: 11s - loss: 0.91 - ETA: 10s - loss: 0.90 - ETA: 10s - loss: 0.89 - ETA: 9s - loss: 0.8888 - ETA: 8s - loss: 0.886 - ETA: 7s - loss: 0.881 - ETA: 7s - loss: 0.876 - ETA: 6s - loss: 0.870 - ETA: 6s - loss: 0.866 - ETA: 5s - loss: 0.859 - ETA: 4s - loss: 0.858 - ETA: 4s - loss: 0.853 - ETA: 3s - loss: 0.851 - ETA: 2s - loss: 0.848 - ETA: 2s - loss: 0.846 - ETA: 1s - loss: 0.843 - ETA: 0s - loss: 0.842 - 27s 2ms/step - loss: 0.8399\n",
      "\n",
      "Epoch 00001: loss improved from inf to 0.83993, saving model to models\\weights-improvement-01-bigger.hdf5\n",
      "Epoch 2/50\n",
      "17286/17286 [==============================] - ETA: 4s - loss: 0.808 - ETA: 4s - loss: 0.749 - ETA: 4s - loss: 0.773 - ETA: 4s - loss: 0.766 - ETA: 4s - loss: 0.772 - ETA: 4s - loss: 0.775 - ETA: 4s - loss: 0.775 - ETA: 3s - loss: 0.778 - ETA: 3s - loss: 0.770 - ETA: 3s - loss: 0.768 - ETA: 3s - loss: 0.768 - ETA: 3s - loss: 0.767 - ETA: 3s - loss: 0.768 - ETA: 3s - loss: 0.768 - ETA: 2s - loss: 0.763 - ETA: 2s - loss: 0.762 - ETA: 2s - loss: 0.758 - ETA: 2s - loss: 0.759 - ETA: 2s - loss: 0.753 - ETA: 2s - loss: 0.753 - ETA: 1s - loss: 0.751 - ETA: 1s - loss: 0.750 - ETA: 1s - loss: 0.754 - ETA: 1s - loss: 0.754 - ETA: 1s - loss: 0.754 - ETA: 1s - loss: 0.756 - ETA: 1s - loss: 0.759 - ETA: 0s - loss: 0.759 - ETA: 0s - loss: 0.757 - ETA: 0s - loss: 0.755 - ETA: 0s - loss: 0.753 - ETA: 0s - loss: 0.755 - ETA: 0s - loss: 0.754 - 5s 305us/step - loss: 0.7545\n",
      "\n",
      "Epoch 00002: loss improved from 0.83993 to 0.75453, saving model to models\\weights-improvement-02-bigger.hdf5\n",
      "Epoch 3/50\n",
      "17286/17286 [==============================] - ETA: 4s - loss: 0.738 - ETA: 4s - loss: 0.706 - ETA: 4s - loss: 0.706 - ETA: 4s - loss: 0.725 - ETA: 4s - loss: 0.742 - ETA: 4s - loss: 0.735 - ETA: 3s - loss: 0.733 - ETA: 3s - loss: 0.734 - ETA: 3s - loss: 0.735 - ETA: 3s - loss: 0.732 - ETA: 3s - loss: 0.720 - ETA: 3s - loss: 0.715 - ETA: 3s - loss: 0.706 - ETA: 2s - loss: 0.701 - ETA: 2s - loss: 0.700 - ETA: 2s - loss: 0.695 - ETA: 2s - loss: 0.692 - ETA: 2s - loss: 0.691 - ETA: 2s - loss: 0.684 - ETA: 2s - loss: 0.683 - ETA: 1s - loss: 0.685 - ETA: 1s - loss: 0.685 - ETA: 1s - loss: 0.684 - ETA: 1s - loss: 0.682 - ETA: 1s - loss: 0.681 - ETA: 1s - loss: 0.681 - ETA: 0s - loss: 0.678 - ETA: 0s - loss: 0.674 - ETA: 0s - loss: 0.672 - ETA: 0s - loss: 0.668 - ETA: 0s - loss: 0.666 - ETA: 0s - loss: 0.667 - ETA: 0s - loss: 0.665 - 5s 288us/step - loss: 0.6644\n",
      "\n",
      "Epoch 00003: loss improved from 0.75453 to 0.66438, saving model to models\\weights-improvement-03-bigger.hdf5\n",
      "Epoch 4/50\n",
      "17286/17286 [==============================] - ETA: 4s - loss: 0.569 - ETA: 4s - loss: 0.584 - ETA: 4s - loss: 0.579 - ETA: 4s - loss: 0.574 - ETA: 4s - loss: 0.586 - ETA: 4s - loss: 0.594 - ETA: 3s - loss: 0.588 - ETA: 3s - loss: 0.591 - ETA: 3s - loss: 0.587 - ETA: 3s - loss: 0.584 - ETA: 3s - loss: 0.583 - ETA: 3s - loss: 0.579 - ETA: 3s - loss: 0.573 - ETA: 2s - loss: 0.580 - ETA: 2s - loss: 0.587 - ETA: 2s - loss: 0.589 - ETA: 2s - loss: 0.585 - ETA: 2s - loss: 0.585 - ETA: 2s - loss: 0.588 - ETA: 2s - loss: 0.587 - ETA: 1s - loss: 0.584 - ETA: 1s - loss: 0.582 - ETA: 1s - loss: 0.578 - ETA: 1s - loss: 0.578 - ETA: 1s - loss: 0.576 - ETA: 1s - loss: 0.575 - ETA: 0s - loss: 0.573 - ETA: 0s - loss: 0.572 - ETA: 0s - loss: 0.573 - ETA: 0s - loss: 0.575 - ETA: 0s - loss: 0.576 - ETA: 0s - loss: 0.575 - ETA: 0s - loss: 0.573 - 5s 287us/step - loss: 0.5741\n",
      "\n",
      "Epoch 00004: loss improved from 0.66438 to 0.57413, saving model to models\\weights-improvement-04-bigger.hdf5\n",
      "Epoch 5/50\n",
      "17286/17286 [==============================] - ETA: 4s - loss: 0.478 - ETA: 4s - loss: 0.484 - ETA: 4s - loss: 0.484 - ETA: 4s - loss: 0.507 - ETA: 4s - loss: 0.503 - ETA: 4s - loss: 0.494 - ETA: 3s - loss: 0.497 - ETA: 3s - loss: 0.504 - ETA: 3s - loss: 0.499 - ETA: 3s - loss: 0.501 - ETA: 3s - loss: 0.505 - ETA: 3s - loss: 0.501 - ETA: 3s - loss: 0.496 - ETA: 2s - loss: 0.498 - ETA: 2s - loss: 0.499 - ETA: 2s - loss: 0.498 - ETA: 2s - loss: 0.496 - ETA: 2s - loss: 0.496 - ETA: 2s - loss: 0.497 - ETA: 2s - loss: 0.494 - ETA: 1s - loss: 0.491 - ETA: 1s - loss: 0.493 - ETA: 1s - loss: 0.494 - ETA: 1s - loss: 0.493 - ETA: 1s - loss: 0.492 - ETA: 1s - loss: 0.491 - ETA: 0s - loss: 0.495 - ETA: 0s - loss: 0.493 - ETA: 0s - loss: 0.491 - ETA: 0s - loss: 0.490 - ETA: 0s - loss: 0.490 - ETA: 0s - loss: 0.490 - ETA: 0s - loss: 0.490 - 5s 287us/step - loss: 0.4897\n",
      "\n",
      "Epoch 00005: loss improved from 0.57413 to 0.48967, saving model to models\\weights-improvement-05-bigger.hdf5\n",
      "Epoch 6/50\n",
      "17286/17286 [==============================] - ETA: 4s - loss: 0.439 - ETA: 4s - loss: 0.460 - ETA: 4s - loss: 0.443 - ETA: 4s - loss: 0.431 - ETA: 4s - loss: 0.424 - ETA: 4s - loss: 0.423 - ETA: 3s - loss: 0.425 - ETA: 3s - loss: 0.422 - ETA: 3s - loss: 0.422 - ETA: 3s - loss: 0.425 - ETA: 3s - loss: 0.422 - ETA: 3s - loss: 0.417 - ETA: 3s - loss: 0.413 - ETA: 3s - loss: 0.413 - ETA: 3s - loss: 0.412 - ETA: 2s - loss: 0.412 - ETA: 2s - loss: 0.413 - ETA: 2s - loss: 0.414 - ETA: 2s - loss: 0.414 - ETA: 2s - loss: 0.418 - ETA: 2s - loss: 0.417 - ETA: 1s - loss: 0.418 - ETA: 1s - loss: 0.418 - ETA: 1s - loss: 0.417 - ETA: 1s - loss: 0.418 - ETA: 1s - loss: 0.415 - ETA: 1s - loss: 0.415 - ETA: 0s - loss: 0.413 - ETA: 0s - loss: 0.415 - ETA: 0s - loss: 0.414 - ETA: 0s - loss: 0.414 - ETA: 0s - loss: 0.414 - ETA: 0s - loss: 0.412 - 5s 307us/step - loss: 0.4126\n",
      "\n",
      "Epoch 00006: loss improved from 0.48967 to 0.41255, saving model to models\\weights-improvement-06-bigger.hdf5\n",
      "Epoch 7/50\n",
      "17286/17286 [==============================] - ETA: 4s - loss: 0.365 - ETA: 4s - loss: 0.363 - ETA: 4s - loss: 0.359 - ETA: 4s - loss: 0.351 - ETA: 4s - loss: 0.339 - ETA: 4s - loss: 0.342 - ETA: 3s - loss: 0.338 - ETA: 3s - loss: 0.337 - ETA: 3s - loss: 0.342 - ETA: 3s - loss: 0.346 - ETA: 3s - loss: 0.344 - ETA: 3s - loss: 0.343 - ETA: 3s - loss: 0.339 - ETA: 2s - loss: 0.338 - ETA: 2s - loss: 0.340 - ETA: 2s - loss: 0.337 - ETA: 2s - loss: 0.337 - ETA: 2s - loss: 0.335 - ETA: 2s - loss: 0.335 - ETA: 2s - loss: 0.334 - ETA: 1s - loss: 0.331 - ETA: 1s - loss: 0.332 - ETA: 1s - loss: 0.332 - ETA: 1s - loss: 0.333 - ETA: 1s - loss: 0.332 - ETA: 1s - loss: 0.333 - ETA: 0s - loss: 0.333 - ETA: 0s - loss: 0.333 - ETA: 0s - loss: 0.334 - ETA: 0s - loss: 0.334 - ETA: 0s - loss: 0.336 - ETA: 0s - loss: 0.337 - ETA: 0s - loss: 0.339 - 5s 286us/step - loss: 0.3369\n",
      "\n",
      "Epoch 00007: loss improved from 0.41255 to 0.33691, saving model to models\\weights-improvement-07-bigger.hdf5\n",
      "Epoch 8/50\n",
      "17286/17286 [==============================] - ETA: 4s - loss: 0.321 - ETA: 4s - loss: 0.290 - ETA: 4s - loss: 0.298 - ETA: 4s - loss: 0.297 - ETA: 4s - loss: 0.300 - ETA: 4s - loss: 0.298 - ETA: 3s - loss: 0.293 - ETA: 3s - loss: 0.290 - ETA: 3s - loss: 0.285 - ETA: 3s - loss: 0.286 - ETA: 3s - loss: 0.286 - ETA: 3s - loss: 0.283 - ETA: 3s - loss: 0.286 - ETA: 2s - loss: 0.281 - ETA: 2s - loss: 0.279 - ETA: 2s - loss: 0.276 - ETA: 2s - loss: 0.274 - ETA: 2s - loss: 0.273 - ETA: 2s - loss: 0.275 - ETA: 2s - loss: 0.275 - ETA: 1s - loss: 0.273 - ETA: 1s - loss: 0.272 - ETA: 1s - loss: 0.271 - ETA: 1s - loss: 0.273 - ETA: 1s - loss: 0.273 - ETA: 1s - loss: 0.272 - ETA: 0s - loss: 0.273 - ETA: 0s - loss: 0.274 - ETA: 0s - loss: 0.274 - ETA: 0s - loss: 0.275 - ETA: 0s - loss: 0.274 - ETA: 0s - loss: 0.274 - ETA: 0s - loss: 0.273 - 5s 288us/step - loss: 0.2743\n",
      "\n",
      "Epoch 00008: loss improved from 0.33691 to 0.27434, saving model to models\\weights-improvement-08-bigger.hdf5\n",
      "Epoch 9/50\n",
      "17286/17286 [==============================] - ETA: 4s - loss: 0.210 - ETA: 4s - loss: 0.226 - ETA: 4s - loss: 0.229 - ETA: 4s - loss: 0.234 - ETA: 4s - loss: 0.233 - ETA: 4s - loss: 0.232 - ETA: 3s - loss: 0.231 - ETA: 3s - loss: 0.229 - ETA: 3s - loss: 0.230 - ETA: 3s - loss: 0.230 - ETA: 3s - loss: 0.226 - ETA: 3s - loss: 0.229 - ETA: 3s - loss: 0.223 - ETA: 2s - loss: 0.222 - ETA: 2s - loss: 0.225 - ETA: 2s - loss: 0.222 - ETA: 2s - loss: 0.223 - ETA: 2s - loss: 0.224 - ETA: 2s - loss: 0.224 - ETA: 2s - loss: 0.224 - ETA: 1s - loss: 0.224 - ETA: 1s - loss: 0.223 - ETA: 1s - loss: 0.223 - ETA: 1s - loss: 0.224 - ETA: 1s - loss: 0.224 - ETA: 1s - loss: 0.224 - ETA: 1s - loss: 0.226 - ETA: 0s - loss: 0.227 - ETA: 0s - loss: 0.226 - ETA: 0s - loss: 0.227 - ETA: 0s - loss: 0.228 - ETA: 0s - loss: 0.227 - ETA: 0s - loss: 0.227 - 5s 291us/step - loss: 0.2306\n",
      "\n",
      "Epoch 00009: loss improved from 0.27434 to 0.23062, saving model to models\\weights-improvement-09-bigger.hdf5\n",
      "Epoch 10/50\n",
      "17286/17286 [==============================] - ETA: 4s - loss: 0.174 - ETA: 4s - loss: 0.162 - ETA: 4s - loss: 0.164 - ETA: 4s - loss: 0.170 - ETA: 4s - loss: 0.171 - ETA: 4s - loss: 0.171 - ETA: 3s - loss: 0.171 - ETA: 3s - loss: 0.176 - ETA: 3s - loss: 0.175 - ETA: 3s - loss: 0.177 - ETA: 3s - loss: 0.181 - ETA: 3s - loss: 0.183 - ETA: 3s - loss: 0.185 - ETA: 2s - loss: 0.186 - ETA: 2s - loss: 0.188 - ETA: 2s - loss: 0.190 - ETA: 2s - loss: 0.190 - ETA: 2s - loss: 0.188 - ETA: 2s - loss: 0.187 - ETA: 2s - loss: 0.187 - ETA: 1s - loss: 0.186 - ETA: 1s - loss: 0.187 - ETA: 1s - loss: 0.185 - ETA: 1s - loss: 0.185 - ETA: 1s - loss: 0.184 - ETA: 1s - loss: 0.184 - ETA: 1s - loss: 0.184 - ETA: 0s - loss: 0.184 - ETA: 0s - loss: 0.184 - ETA: 0s - loss: 0.184 - ETA: 0s - loss: 0.184 - ETA: 0s - loss: 0.184 - ETA: 0s - loss: 0.185 - 5s 290us/step - loss: 0.1841\n",
      "\n",
      "Epoch 00010: loss improved from 0.23062 to 0.18409, saving model to models\\weights-improvement-10-bigger.hdf5\n",
      "Epoch 11/50\n",
      "17286/17286 [==============================] - ETA: 4s - loss: 0.161 - ETA: 4s - loss: 0.157 - ETA: 4s - loss: 0.159 - ETA: 4s - loss: 0.150 - ETA: 4s - loss: 0.141 - ETA: 4s - loss: 0.146 - ETA: 3s - loss: 0.142 - ETA: 3s - loss: 0.139 - ETA: 3s - loss: 0.143 - ETA: 3s - loss: 0.150 - ETA: 3s - loss: 0.151 - ETA: 3s - loss: 0.151 - ETA: 3s - loss: 0.149 - ETA: 2s - loss: 0.148 - ETA: 2s - loss: 0.149 - ETA: 2s - loss: 0.146 - ETA: 2s - loss: 0.147 - ETA: 2s - loss: 0.148 - ETA: 2s - loss: 0.148 - ETA: 2s - loss: 0.149 - ETA: 1s - loss: 0.148 - ETA: 1s - loss: 0.147 - ETA: 1s - loss: 0.147 - ETA: 1s - loss: 0.146 - ETA: 1s - loss: 0.147 - ETA: 1s - loss: 0.148 - ETA: 0s - loss: 0.149 - ETA: 0s - loss: 0.148 - ETA: 0s - loss: 0.148 - ETA: 0s - loss: 0.148 - ETA: 0s - loss: 0.147 - ETA: 0s - loss: 0.148 - ETA: 0s - loss: 0.148 - 5s 287us/step - loss: 0.1473\n",
      "\n",
      "Epoch 00011: loss improved from 0.18409 to 0.14726, saving model to models\\weights-improvement-11-bigger.hdf5\n",
      "Epoch 12/50\n",
      "17286/17286 [==============================] - ETA: 4s - loss: 0.135 - ETA: 4s - loss: 0.119 - ETA: 4s - loss: 0.123 - ETA: 4s - loss: 0.121 - ETA: 4s - loss: 0.124 - ETA: 4s - loss: 0.126 - ETA: 3s - loss: 0.126 - ETA: 3s - loss: 0.127 - ETA: 3s - loss: 0.125 - ETA: 3s - loss: 0.125 - ETA: 3s - loss: 0.125 - ETA: 3s - loss: 0.125 - ETA: 3s - loss: 0.124 - ETA: 2s - loss: 0.125 - ETA: 2s - loss: 0.125 - ETA: 2s - loss: 0.123 - ETA: 2s - loss: 0.123 - ETA: 2s - loss: 0.122 - ETA: 2s - loss: 0.123 - ETA: 2s - loss: 0.123 - ETA: 1s - loss: 0.122 - ETA: 1s - loss: 0.122 - ETA: 1s - loss: 0.122 - ETA: 1s - loss: 0.123 - ETA: 1s - loss: 0.123 - ETA: 1s - loss: 0.124 - ETA: 0s - loss: 0.124 - ETA: 0s - loss: 0.125 - ETA: 0s - loss: 0.124 - ETA: 0s - loss: 0.124 - ETA: 0s - loss: 0.125 - ETA: 0s - loss: 0.125 - ETA: 0s - loss: 0.126 - 5s 287us/step - loss: 0.1268\n",
      "\n",
      "Epoch 00012: loss improved from 0.14726 to 0.12675, saving model to models\\weights-improvement-12-bigger.hdf5\n",
      "Epoch 13/50\n",
      "17286/17286 [==============================] - ETA: 4s - loss: 0.104 - ETA: 4s - loss: 0.105 - ETA: 4s - loss: 0.102 - ETA: 4s - loss: 0.103 - ETA: 4s - loss: 0.102 - ETA: 4s - loss: 0.103 - ETA: 3s - loss: 0.106 - ETA: 3s - loss: 0.104 - ETA: 3s - loss: 0.100 - ETA: 3s - loss: 0.103 - ETA: 3s - loss: 0.106 - ETA: 3s - loss: 0.105 - ETA: 3s - loss: 0.106 - ETA: 2s - loss: 0.106 - ETA: 2s - loss: 0.105 - ETA: 2s - loss: 0.106 - ETA: 2s - loss: 0.106 - ETA: 2s - loss: 0.105 - ETA: 2s - loss: 0.104 - ETA: 2s - loss: 0.104 - ETA: 1s - loss: 0.103 - ETA: 1s - loss: 0.102 - ETA: 1s - loss: 0.102 - ETA: 1s - loss: 0.102 - ETA: 1s - loss: 0.105 - ETA: 1s - loss: 0.104 - ETA: 0s - loss: 0.105 - ETA: 0s - loss: 0.105 - ETA: 0s - loss: 0.107 - ETA: 0s - loss: 0.106 - ETA: 0s - loss: 0.109 - ETA: 0s - loss: 0.110 - ETA: 0s - loss: 0.111 - 5s 289us/step - loss: 0.1122\n",
      "\n",
      "Epoch 00013: loss improved from 0.12675 to 0.11222, saving model to models\\weights-improvement-13-bigger.hdf5\n",
      "Epoch 14/50\n",
      "17286/17286 [==============================] - ETA: 4s - loss: 0.134 - ETA: 4s - loss: 0.129 - ETA: 4s - loss: 0.121 - ETA: 4s - loss: 0.125 - ETA: 4s - loss: 0.120 - ETA: 4s - loss: 0.113 - ETA: 3s - loss: 0.110 - ETA: 3s - loss: 0.108 - ETA: 3s - loss: 0.112 - ETA: 3s - loss: 0.110 - ETA: 3s - loss: 0.108 - ETA: 3s - loss: 0.108 - ETA: 3s - loss: 0.109 - ETA: 2s - loss: 0.107 - ETA: 2s - loss: 0.106 - ETA: 2s - loss: 0.106 - ETA: 2s - loss: 0.107 - ETA: 2s - loss: 0.105 - ETA: 2s - loss: 0.104 - ETA: 2s - loss: 0.103 - ETA: 1s - loss: 0.105 - ETA: 1s - loss: 0.104 - ETA: 1s - loss: 0.104 - ETA: 1s - loss: 0.104 - ETA: 1s - loss: 0.103 - ETA: 1s - loss: 0.102 - ETA: 1s - loss: 0.101 - ETA: 0s - loss: 0.100 - ETA: 0s - loss: 0.100 - ETA: 0s - loss: 0.101 - ETA: 0s - loss: 0.099 - ETA: 0s - loss: 0.099 - ETA: 0s - loss: 0.100 - 5s 299us/step - loss: 0.1004\n",
      "\n",
      "Epoch 00014: loss improved from 0.11222 to 0.10039, saving model to models\\weights-improvement-14-bigger.hdf5\n",
      "Epoch 15/50\n",
      "17286/17286 [==============================] - ETA: 4s - loss: 0.078 - ETA: 4s - loss: 0.086 - ETA: 4s - loss: 0.081 - ETA: 4s - loss: 0.079 - ETA: 4s - loss: 0.080 - ETA: 4s - loss: 0.081 - ETA: 3s - loss: 0.081 - ETA: 3s - loss: 0.078 - ETA: 3s - loss: 0.079 - ETA: 3s - loss: 0.080 - ETA: 3s - loss: 0.079 - ETA: 3s - loss: 0.080 - ETA: 3s - loss: 0.081 - ETA: 2s - loss: 0.080 - ETA: 2s - loss: 0.082 - ETA: 2s - loss: 0.080 - ETA: 2s - loss: 0.080 - ETA: 2s - loss: 0.079 - ETA: 2s - loss: 0.080 - ETA: 2s - loss: 0.080 - ETA: 1s - loss: 0.079 - ETA: 1s - loss: 0.078 - ETA: 1s - loss: 0.078 - ETA: 1s - loss: 0.078 - ETA: 1s - loss: 0.079 - ETA: 1s - loss: 0.079 - ETA: 1s - loss: 0.081 - ETA: 0s - loss: 0.081 - ETA: 0s - loss: 0.082 - ETA: 0s - loss: 0.082 - ETA: 0s - loss: 0.081 - ETA: 0s - loss: 0.080 - ETA: 0s - loss: 0.081 - 5s 291us/step - loss: 0.0811\n",
      "\n",
      "Epoch 00015: loss improved from 0.10039 to 0.08112, saving model to models\\weights-improvement-15-bigger.hdf5\n",
      "Epoch 16/50\n",
      "17286/17286 [==============================] - ETA: 4s - loss: 0.056 - ETA: 4s - loss: 0.058 - ETA: 4s - loss: 0.049 - ETA: 4s - loss: 0.049 - ETA: 4s - loss: 0.053 - ETA: 4s - loss: 0.055 - ETA: 3s - loss: 0.054 - ETA: 3s - loss: 0.056 - ETA: 3s - loss: 0.056 - ETA: 3s - loss: 0.058 - ETA: 3s - loss: 0.060 - ETA: 3s - loss: 0.060 - ETA: 3s - loss: 0.062 - ETA: 2s - loss: 0.061 - ETA: 2s - loss: 0.061 - ETA: 2s - loss: 0.061 - ETA: 2s - loss: 0.063 - ETA: 2s - loss: 0.065 - ETA: 2s - loss: 0.064 - ETA: 2s - loss: 0.063 - ETA: 1s - loss: 0.064 - ETA: 1s - loss: 0.063 - ETA: 1s - loss: 0.062 - ETA: 1s - loss: 0.063 - ETA: 1s - loss: 0.062 - ETA: 1s - loss: 0.063 - ETA: 1s - loss: 0.062 - ETA: 0s - loss: 0.063 - ETA: 0s - loss: 0.064 - ETA: 0s - loss: 0.065 - ETA: 0s - loss: 0.066 - ETA: 0s - loss: 0.066 - ETA: 0s - loss: 0.067 - 5s 291us/step - loss: 0.0671\n",
      "\n",
      "Epoch 00016: loss improved from 0.08112 to 0.06714, saving model to models\\weights-improvement-16-bigger.hdf5\n",
      "Epoch 17/50\n"
     ]
    },
    {
     "name": "stdout",
     "output_type": "stream",
     "text": [
      "17286/17286 [==============================] - ETA: 4s - loss: 0.065 - ETA: 4s - loss: 0.066 - ETA: 4s - loss: 0.063 - ETA: 4s - loss: 0.062 - ETA: 4s - loss: 0.063 - ETA: 4s - loss: 0.069 - ETA: 3s - loss: 0.065 - ETA: 3s - loss: 0.064 - ETA: 3s - loss: 0.066 - ETA: 3s - loss: 0.066 - ETA: 3s - loss: 0.067 - ETA: 3s - loss: 0.066 - ETA: 3s - loss: 0.066 - ETA: 2s - loss: 0.063 - ETA: 2s - loss: 0.064 - ETA: 2s - loss: 0.065 - ETA: 2s - loss: 0.065 - ETA: 2s - loss: 0.063 - ETA: 2s - loss: 0.064 - ETA: 2s - loss: 0.064 - ETA: 1s - loss: 0.063 - ETA: 1s - loss: 0.064 - ETA: 1s - loss: 0.065 - ETA: 1s - loss: 0.066 - ETA: 1s - loss: 0.065 - ETA: 1s - loss: 0.066 - ETA: 0s - loss: 0.067 - ETA: 0s - loss: 0.067 - ETA: 0s - loss: 0.067 - ETA: 0s - loss: 0.067 - ETA: 0s - loss: 0.067 - ETA: 0s - loss: 0.067 - ETA: 0s - loss: 0.068 - 5s 287us/step - loss: 0.0684\n",
      "\n",
      "Epoch 00017: loss did not improve from 0.06714\n",
      "Epoch 18/50\n",
      "17286/17286 [==============================] - ETA: 4s - loss: 0.081 - ETA: 4s - loss: 0.078 - ETA: 4s - loss: 0.068 - ETA: 4s - loss: 0.062 - ETA: 4s - loss: 0.061 - ETA: 4s - loss: 0.060 - ETA: 3s - loss: 0.063 - ETA: 3s - loss: 0.065 - ETA: 3s - loss: 0.064 - ETA: 3s - loss: 0.063 - ETA: 3s - loss: 0.063 - ETA: 3s - loss: 0.062 - ETA: 3s - loss: 0.062 - ETA: 2s - loss: 0.063 - ETA: 2s - loss: 0.062 - ETA: 2s - loss: 0.063 - ETA: 2s - loss: 0.062 - ETA: 2s - loss: 0.062 - ETA: 2s - loss: 0.061 - ETA: 2s - loss: 0.063 - ETA: 1s - loss: 0.062 - ETA: 1s - loss: 0.063 - ETA: 1s - loss: 0.062 - ETA: 1s - loss: 0.062 - ETA: 1s - loss: 0.062 - ETA: 1s - loss: 0.062 - ETA: 0s - loss: 0.062 - ETA: 0s - loss: 0.062 - ETA: 0s - loss: 0.063 - ETA: 0s - loss: 0.063 - ETA: 0s - loss: 0.064 - ETA: 0s - loss: 0.063 - ETA: 0s - loss: 0.063 - 5s 287us/step - loss: 0.0632\n",
      "\n",
      "Epoch 00018: loss improved from 0.06714 to 0.06318, saving model to models\\weights-improvement-18-bigger.hdf5\n",
      "Epoch 19/50\n",
      "17286/17286 [==============================] - ETA: 4s - loss: 0.052 - ETA: 4s - loss: 0.062 - ETA: 4s - loss: 0.058 - ETA: 4s - loss: 0.061 - ETA: 4s - loss: 0.066 - ETA: 4s - loss: 0.065 - ETA: 3s - loss: 0.065 - ETA: 3s - loss: 0.062 - ETA: 3s - loss: 0.061 - ETA: 3s - loss: 0.061 - ETA: 3s - loss: 0.061 - ETA: 3s - loss: 0.060 - ETA: 3s - loss: 0.060 - ETA: 2s - loss: 0.061 - ETA: 2s - loss: 0.063 - ETA: 2s - loss: 0.063 - ETA: 2s - loss: 0.064 - ETA: 2s - loss: 0.063 - ETA: 2s - loss: 0.063 - ETA: 2s - loss: 0.064 - ETA: 1s - loss: 0.063 - ETA: 1s - loss: 0.062 - ETA: 1s - loss: 0.062 - ETA: 1s - loss: 0.062 - ETA: 1s - loss: 0.061 - ETA: 1s - loss: 0.060 - ETA: 0s - loss: 0.061 - ETA: 0s - loss: 0.060 - ETA: 0s - loss: 0.060 - ETA: 0s - loss: 0.061 - ETA: 0s - loss: 0.061 - ETA: 0s - loss: 0.061 - ETA: 0s - loss: 0.061 - 5s 287us/step - loss: 0.0615\n",
      "\n",
      "Epoch 00019: loss improved from 0.06318 to 0.06155, saving model to models\\weights-improvement-19-bigger.hdf5\n",
      "Epoch 20/50\n",
      "17286/17286 [==============================] - ETA: 4s - loss: 0.036 - ETA: 4s - loss: 0.042 - ETA: 4s - loss: 0.049 - ETA: 4s - loss: 0.046 - ETA: 4s - loss: 0.045 - ETA: 4s - loss: 0.048 - ETA: 3s - loss: 0.049 - ETA: 3s - loss: 0.052 - ETA: 3s - loss: 0.050 - ETA: 3s - loss: 0.050 - ETA: 3s - loss: 0.051 - ETA: 3s - loss: 0.050 - ETA: 3s - loss: 0.049 - ETA: 2s - loss: 0.050 - ETA: 2s - loss: 0.050 - ETA: 2s - loss: 0.049 - ETA: 2s - loss: 0.047 - ETA: 2s - loss: 0.047 - ETA: 2s - loss: 0.048 - ETA: 2s - loss: 0.048 - ETA: 1s - loss: 0.048 - ETA: 1s - loss: 0.048 - ETA: 1s - loss: 0.048 - ETA: 1s - loss: 0.047 - ETA: 1s - loss: 0.046 - ETA: 1s - loss: 0.046 - ETA: 0s - loss: 0.046 - ETA: 0s - loss: 0.046 - ETA: 0s - loss: 0.046 - ETA: 0s - loss: 0.046 - ETA: 0s - loss: 0.047 - ETA: 0s - loss: 0.046 - ETA: 0s - loss: 0.046 - 5s 288us/step - loss: 0.0462\n",
      "\n",
      "Epoch 00020: loss improved from 0.06155 to 0.04625, saving model to models\\weights-improvement-20-bigger.hdf5\n",
      "Epoch 21/50\n",
      "17286/17286 [==============================] - ETA: 4s - loss: 0.082 - ETA: 4s - loss: 0.047 - ETA: 4s - loss: 0.043 - ETA: 4s - loss: 0.038 - ETA: 4s - loss: 0.040 - ETA: 4s - loss: 0.043 - ETA: 3s - loss: 0.044 - ETA: 3s - loss: 0.042 - ETA: 3s - loss: 0.041 - ETA: 3s - loss: 0.041 - ETA: 3s - loss: 0.043 - ETA: 3s - loss: 0.042 - ETA: 3s - loss: 0.043 - ETA: 2s - loss: 0.042 - ETA: 2s - loss: 0.041 - ETA: 2s - loss: 0.040 - ETA: 2s - loss: 0.041 - ETA: 2s - loss: 0.040 - ETA: 2s - loss: 0.040 - ETA: 2s - loss: 0.040 - ETA: 1s - loss: 0.039 - ETA: 1s - loss: 0.039 - ETA: 1s - loss: 0.039 - ETA: 1s - loss: 0.039 - ETA: 1s - loss: 0.039 - ETA: 1s - loss: 0.039 - ETA: 0s - loss: 0.038 - ETA: 0s - loss: 0.038 - ETA: 0s - loss: 0.039 - ETA: 0s - loss: 0.039 - ETA: 0s - loss: 0.039 - ETA: 0s - loss: 0.040 - ETA: 0s - loss: 0.040 - 5s 288us/step - loss: 0.0410\n",
      "\n",
      "Epoch 00021: loss improved from 0.04625 to 0.04101, saving model to models\\weights-improvement-21-bigger.hdf5\n",
      "Epoch 22/50\n",
      "17286/17286 [==============================] - ETA: 4s - loss: 0.037 - ETA: 4s - loss: 0.029 - ETA: 4s - loss: 0.041 - ETA: 4s - loss: 0.038 - ETA: 4s - loss: 0.035 - ETA: 4s - loss: 0.033 - ETA: 3s - loss: 0.035 - ETA: 3s - loss: 0.035 - ETA: 3s - loss: 0.034 - ETA: 3s - loss: 0.034 - ETA: 3s - loss: 0.033 - ETA: 3s - loss: 0.032 - ETA: 3s - loss: 0.033 - ETA: 2s - loss: 0.034 - ETA: 2s - loss: 0.036 - ETA: 2s - loss: 0.035 - ETA: 2s - loss: 0.037 - ETA: 2s - loss: 0.036 - ETA: 2s - loss: 0.036 - ETA: 2s - loss: 0.036 - ETA: 1s - loss: 0.036 - ETA: 1s - loss: 0.035 - ETA: 1s - loss: 0.036 - ETA: 1s - loss: 0.035 - ETA: 1s - loss: 0.035 - ETA: 1s - loss: 0.035 - ETA: 1s - loss: 0.036 - ETA: 0s - loss: 0.035 - ETA: 0s - loss: 0.035 - ETA: 0s - loss: 0.035 - ETA: 0s - loss: 0.035 - ETA: 0s - loss: 0.035 - ETA: 0s - loss: 0.035 - 5s 290us/step - loss: 0.0353\n",
      "\n",
      "Epoch 00022: loss improved from 0.04101 to 0.03530, saving model to models\\weights-improvement-22-bigger.hdf5\n",
      "Epoch 23/50\n",
      "17286/17286 [==============================] - ETA: 4s - loss: 0.018 - ETA: 4s - loss: 0.032 - ETA: 4s - loss: 0.028 - ETA: 4s - loss: 0.030 - ETA: 4s - loss: 0.037 - ETA: 4s - loss: 0.035 - ETA: 3s - loss: 0.034 - ETA: 3s - loss: 0.037 - ETA: 3s - loss: 0.034 - ETA: 3s - loss: 0.034 - ETA: 3s - loss: 0.034 - ETA: 3s - loss: 0.035 - ETA: 3s - loss: 0.040 - ETA: 2s - loss: 0.040 - ETA: 2s - loss: 0.040 - ETA: 2s - loss: 0.039 - ETA: 2s - loss: 0.038 - ETA: 2s - loss: 0.038 - ETA: 2s - loss: 0.038 - ETA: 2s - loss: 0.038 - ETA: 1s - loss: 0.038 - ETA: 1s - loss: 0.039 - ETA: 1s - loss: 0.039 - ETA: 1s - loss: 0.039 - ETA: 1s - loss: 0.038 - ETA: 1s - loss: 0.038 - ETA: 0s - loss: 0.037 - ETA: 0s - loss: 0.037 - ETA: 0s - loss: 0.036 - ETA: 0s - loss: 0.037 - ETA: 0s - loss: 0.038 - ETA: 0s - loss: 0.038 - ETA: 0s - loss: 0.038 - 5s 287us/step - loss: 0.0378\n",
      "\n",
      "Epoch 00023: loss did not improve from 0.03530\n",
      "Epoch 24/50\n",
      "17286/17286 [==============================] - ETA: 4s - loss: 0.049 - ETA: 4s - loss: 0.036 - ETA: 4s - loss: 0.038 - ETA: 4s - loss: 0.035 - ETA: 4s - loss: 0.031 - ETA: 4s - loss: 0.031 - ETA: 3s - loss: 0.032 - ETA: 3s - loss: 0.033 - ETA: 3s - loss: 0.034 - ETA: 3s - loss: 0.034 - ETA: 3s - loss: 0.034 - ETA: 3s - loss: 0.035 - ETA: 3s - loss: 0.034 - ETA: 2s - loss: 0.035 - ETA: 2s - loss: 0.035 - ETA: 2s - loss: 0.036 - ETA: 2s - loss: 0.036 - ETA: 2s - loss: 0.036 - ETA: 2s - loss: 0.037 - ETA: 2s - loss: 0.036 - ETA: 1s - loss: 0.036 - ETA: 1s - loss: 0.036 - ETA: 1s - loss: 0.036 - ETA: 1s - loss: 0.036 - ETA: 1s - loss: 0.036 - ETA: 1s - loss: 0.036 - ETA: 0s - loss: 0.036 - ETA: 0s - loss: 0.037 - ETA: 0s - loss: 0.037 - ETA: 0s - loss: 0.036 - ETA: 0s - loss: 0.036 - ETA: 0s - loss: 0.036 - ETA: 0s - loss: 0.036 - 5s 288us/step - loss: 0.0360\n",
      "\n",
      "Epoch 00024: loss did not improve from 0.03530\n",
      "Epoch 25/50\n",
      "17286/17286 [==============================] - ETA: 4s - loss: 0.023 - ETA: 4s - loss: 0.030 - ETA: 4s - loss: 0.025 - ETA: 4s - loss: 0.034 - ETA: 4s - loss: 0.034 - ETA: 4s - loss: 0.036 - ETA: 3s - loss: 0.036 - ETA: 3s - loss: 0.034 - ETA: 3s - loss: 0.033 - ETA: 3s - loss: 0.036 - ETA: 3s - loss: 0.036 - ETA: 3s - loss: 0.037 - ETA: 3s - loss: 0.037 - ETA: 2s - loss: 0.036 - ETA: 2s - loss: 0.038 - ETA: 2s - loss: 0.038 - ETA: 2s - loss: 0.038 - ETA: 2s - loss: 0.038 - ETA: 2s - loss: 0.038 - ETA: 2s - loss: 0.039 - ETA: 1s - loss: 0.038 - ETA: 1s - loss: 0.039 - ETA: 1s - loss: 0.039 - ETA: 1s - loss: 0.039 - ETA: 1s - loss: 0.039 - ETA: 1s - loss: 0.038 - ETA: 0s - loss: 0.038 - ETA: 0s - loss: 0.039 - ETA: 0s - loss: 0.039 - ETA: 0s - loss: 0.039 - ETA: 0s - loss: 0.039 - ETA: 0s - loss: 0.039 - ETA: 0s - loss: 0.038 - 5s 288us/step - loss: 0.0382\n",
      "\n",
      "Epoch 00025: loss did not improve from 0.03530\n",
      "Epoch 26/50\n",
      "17286/17286 [==============================] - ETA: 4s - loss: 0.029 - ETA: 4s - loss: 0.038 - ETA: 4s - loss: 0.030 - ETA: 4s - loss: 0.029 - ETA: 4s - loss: 0.033 - ETA: 4s - loss: 0.034 - ETA: 3s - loss: 0.032 - ETA: 3s - loss: 0.031 - ETA: 3s - loss: 0.033 - ETA: 3s - loss: 0.032 - ETA: 3s - loss: 0.030 - ETA: 3s - loss: 0.031 - ETA: 3s - loss: 0.033 - ETA: 2s - loss: 0.032 - ETA: 2s - loss: 0.032 - ETA: 2s - loss: 0.032 - ETA: 2s - loss: 0.033 - ETA: 2s - loss: 0.032 - ETA: 2s - loss: 0.033 - ETA: 2s - loss: 0.034 - ETA: 1s - loss: 0.034 - ETA: 1s - loss: 0.033 - ETA: 1s - loss: 0.033 - ETA: 1s - loss: 0.034 - ETA: 1s - loss: 0.035 - ETA: 1s - loss: 0.036 - ETA: 0s - loss: 0.036 - ETA: 0s - loss: 0.035 - ETA: 0s - loss: 0.035 - ETA: 0s - loss: 0.036 - ETA: 0s - loss: 0.037 - ETA: 0s - loss: 0.036 - ETA: 0s - loss: 0.037 - 5s 287us/step - loss: 0.0369\n",
      "\n",
      "Epoch 00026: loss did not improve from 0.03530\n",
      "Epoch 27/50\n",
      "17286/17286 [==============================] - ETA: 4s - loss: 0.061 - ETA: 4s - loss: 0.042 - ETA: 4s - loss: 0.036 - ETA: 4s - loss: 0.036 - ETA: 4s - loss: 0.033 - ETA: 4s - loss: 0.033 - ETA: 3s - loss: 0.031 - ETA: 3s - loss: 0.032 - ETA: 3s - loss: 0.034 - ETA: 3s - loss: 0.033 - ETA: 3s - loss: 0.035 - ETA: 3s - loss: 0.035 - ETA: 3s - loss: 0.036 - ETA: 2s - loss: 0.037 - ETA: 2s - loss: 0.038 - ETA: 2s - loss: 0.037 - ETA: 2s - loss: 0.036 - ETA: 2s - loss: 0.037 - ETA: 2s - loss: 0.037 - ETA: 2s - loss: 0.037 - ETA: 1s - loss: 0.037 - ETA: 1s - loss: 0.037 - ETA: 1s - loss: 0.037 - ETA: 1s - loss: 0.037 - ETA: 1s - loss: 0.036 - ETA: 1s - loss: 0.037 - ETA: 0s - loss: 0.037 - ETA: 0s - loss: 0.038 - ETA: 0s - loss: 0.038 - ETA: 0s - loss: 0.037 - ETA: 0s - loss: 0.037 - ETA: 0s - loss: 0.036 - ETA: 0s - loss: 0.036 - 5s 286us/step - loss: 0.0367\n",
      "\n",
      "Epoch 00027: loss did not improve from 0.03530\n",
      "Epoch 28/50\n",
      "17286/17286 [==============================] - ETA: 4s - loss: 0.048 - ETA: 4s - loss: 0.033 - ETA: 4s - loss: 0.039 - ETA: 4s - loss: 0.032 - ETA: 4s - loss: 0.031 - ETA: 4s - loss: 0.035 - ETA: 3s - loss: 0.035 - ETA: 3s - loss: 0.036 - ETA: 3s - loss: 0.037 - ETA: 3s - loss: 0.035 - ETA: 3s - loss: 0.033 - ETA: 3s - loss: 0.032 - ETA: 3s - loss: 0.033 - ETA: 2s - loss: 0.033 - ETA: 2s - loss: 0.034 - ETA: 2s - loss: 0.034 - ETA: 2s - loss: 0.033 - ETA: 2s - loss: 0.033 - ETA: 2s - loss: 0.034 - ETA: 2s - loss: 0.035 - ETA: 1s - loss: 0.034 - ETA: 1s - loss: 0.034 - ETA: 1s - loss: 0.035 - ETA: 1s - loss: 0.035 - ETA: 1s - loss: 0.036 - ETA: 1s - loss: 0.036 - ETA: 0s - loss: 0.036 - ETA: 0s - loss: 0.037 - ETA: 0s - loss: 0.036 - ETA: 0s - loss: 0.036 - ETA: 0s - loss: 0.036 - ETA: 0s - loss: 0.037 - ETA: 0s - loss: 0.037 - 5s 286us/step - loss: 0.0372\n",
      "\n",
      "Epoch 00028: loss did not improve from 0.03530\n",
      "Epoch 29/50\n",
      "17286/17286 [==============================] - ETA: 4s - loss: 0.026 - ETA: 4s - loss: 0.033 - ETA: 4s - loss: 0.033 - ETA: 4s - loss: 0.033 - ETA: 4s - loss: 0.031 - ETA: 4s - loss: 0.034 - ETA: 3s - loss: 0.034 - ETA: 3s - loss: 0.032 - ETA: 3s - loss: 0.031 - ETA: 3s - loss: 0.030 - ETA: 3s - loss: 0.030 - ETA: 3s - loss: 0.032 - ETA: 3s - loss: 0.035 - ETA: 2s - loss: 0.034 - ETA: 2s - loss: 0.036 - ETA: 2s - loss: 0.037 - ETA: 2s - loss: 0.036 - ETA: 2s - loss: 0.036 - ETA: 2s - loss: 0.035 - ETA: 2s - loss: 0.035 - ETA: 1s - loss: 0.036 - ETA: 1s - loss: 0.035 - ETA: 1s - loss: 0.037 - ETA: 1s - loss: 0.036 - ETA: 1s - loss: 0.036 - ETA: 1s - loss: 0.037 - ETA: 0s - loss: 0.037 - ETA: 0s - loss: 0.037 - ETA: 0s - loss: 0.037 - ETA: 0s - loss: 0.037 - ETA: 0s - loss: 0.037 - ETA: 0s - loss: 0.038 - ETA: 0s - loss: 0.038 - 5s 286us/step - loss: 0.0381\n",
      "\n",
      "Epoch 00029: loss did not improve from 0.03530\n",
      "Epoch 30/50\n",
      "17286/17286 [==============================] - ETA: 4s - loss: 0.026 - ETA: 4s - loss: 0.020 - ETA: 4s - loss: 0.026 - ETA: 4s - loss: 0.027 - ETA: 4s - loss: 0.029 - ETA: 4s - loss: 0.027 - ETA: 3s - loss: 0.025 - ETA: 3s - loss: 0.026 - ETA: 3s - loss: 0.025 - ETA: 3s - loss: 0.027 - ETA: 3s - loss: 0.027 - ETA: 3s - loss: 0.027 - ETA: 3s - loss: 0.027 - ETA: 2s - loss: 0.027 - ETA: 2s - loss: 0.027 - ETA: 2s - loss: 0.027 - ETA: 2s - loss: 0.028 - ETA: 2s - loss: 0.028 - ETA: 2s - loss: 0.027 - ETA: 2s - loss: 0.028 - ETA: 1s - loss: 0.028 - ETA: 1s - loss: 0.028 - ETA: 1s - loss: 0.029 - ETA: 1s - loss: 0.029 - ETA: 1s - loss: 0.028 - ETA: 1s - loss: 0.029 - ETA: 0s - loss: 0.028 - ETA: 0s - loss: 0.029 - ETA: 0s - loss: 0.029 - ETA: 0s - loss: 0.029 - ETA: 0s - loss: 0.029 - ETA: 0s - loss: 0.030 - ETA: 0s - loss: 0.030 - 5s 286us/step - loss: 0.0302\n",
      "\n",
      "Epoch 00030: loss improved from 0.03530 to 0.03016, saving model to models\\weights-improvement-30-bigger.hdf5\n",
      "Epoch 31/50\n",
      "17286/17286 [==============================] - ETA: 4s - loss: 0.020 - ETA: 4s - loss: 0.029 - ETA: 4s - loss: 0.028 - ETA: 4s - loss: 0.028 - ETA: 4s - loss: 0.028 - ETA: 4s - loss: 0.027 - ETA: 3s - loss: 0.025 - ETA: 3s - loss: 0.023 - ETA: 3s - loss: 0.023 - ETA: 3s - loss: 0.024 - ETA: 3s - loss: 0.023 - ETA: 3s - loss: 0.024 - ETA: 3s - loss: 0.023 - ETA: 2s - loss: 0.022 - ETA: 2s - loss: 0.022 - ETA: 2s - loss: 0.022 - ETA: 2s - loss: 0.023 - ETA: 2s - loss: 0.024 - ETA: 2s - loss: 0.024 - ETA: 2s - loss: 0.024 - ETA: 1s - loss: 0.023 - ETA: 1s - loss: 0.023 - ETA: 1s - loss: 0.023 - ETA: 1s - loss: 0.023 - ETA: 1s - loss: 0.022 - ETA: 1s - loss: 0.023 - ETA: 0s - loss: 0.023 - ETA: 0s - loss: 0.023 - ETA: 0s - loss: 0.023 - ETA: 0s - loss: 0.023 - ETA: 0s - loss: 0.023 - ETA: 0s - loss: 0.024 - ETA: 0s - loss: 0.024 - 5s 286us/step - loss: 0.0245\n",
      "\n",
      "Epoch 00031: loss improved from 0.03016 to 0.02451, saving model to models\\weights-improvement-31-bigger.hdf5\n",
      "Epoch 32/50\n",
      "17286/17286 [==============================] - ETA: 4s - loss: 0.023 - ETA: 4s - loss: 0.021 - ETA: 4s - loss: 0.025 - ETA: 4s - loss: 0.025 - ETA: 4s - loss: 0.023 - ETA: 4s - loss: 0.024 - ETA: 3s - loss: 0.023 - ETA: 3s - loss: 0.029 - ETA: 3s - loss: 0.027 - ETA: 3s - loss: 0.028 - ETA: 3s - loss: 0.026 - ETA: 3s - loss: 0.026 - ETA: 3s - loss: 0.026 - ETA: 2s - loss: 0.025 - ETA: 2s - loss: 0.026 - ETA: 2s - loss: 0.026 - ETA: 2s - loss: 0.026 - ETA: 2s - loss: 0.025 - ETA: 2s - loss: 0.025 - ETA: 2s - loss: 0.024 - ETA: 1s - loss: 0.024 - ETA: 1s - loss: 0.023 - ETA: 1s - loss: 0.022 - ETA: 1s - loss: 0.022 - ETA: 1s - loss: 0.022 - ETA: 1s - loss: 0.022 - ETA: 0s - loss: 0.021 - ETA: 0s - loss: 0.022 - ETA: 0s - loss: 0.021 - ETA: 0s - loss: 0.021 - ETA: 0s - loss: 0.021 - ETA: 0s - loss: 0.021 - ETA: 0s - loss: 0.021 - 5s 288us/step - loss: 0.0213\n",
      "\n",
      "Epoch 00032: loss improved from 0.02451 to 0.02126, saving model to models\\weights-improvement-32-bigger.hdf5\n",
      "Epoch 33/50\n"
     ]
    },
    {
     "name": "stdout",
     "output_type": "stream",
     "text": [
      "17286/17286 [==============================] - ETA: 4s - loss: 0.019 - ETA: 4s - loss: 0.015 - ETA: 4s - loss: 0.015 - ETA: 4s - loss: 0.017 - ETA: 4s - loss: 0.018 - ETA: 4s - loss: 0.018 - ETA: 3s - loss: 0.017 - ETA: 3s - loss: 0.018 - ETA: 3s - loss: 0.017 - ETA: 3s - loss: 0.017 - ETA: 3s - loss: 0.017 - ETA: 3s - loss: 0.017 - ETA: 3s - loss: 0.016 - ETA: 2s - loss: 0.016 - ETA: 2s - loss: 0.016 - ETA: 2s - loss: 0.017 - ETA: 2s - loss: 0.016 - ETA: 2s - loss: 0.017 - ETA: 2s - loss: 0.017 - ETA: 2s - loss: 0.017 - ETA: 1s - loss: 0.017 - ETA: 1s - loss: 0.017 - ETA: 1s - loss: 0.017 - ETA: 1s - loss: 0.017 - ETA: 1s - loss: 0.016 - ETA: 1s - loss: 0.017 - ETA: 0s - loss: 0.017 - ETA: 0s - loss: 0.017 - ETA: 0s - loss: 0.017 - ETA: 0s - loss: 0.017 - ETA: 0s - loss: 0.017 - ETA: 0s - loss: 0.017 - ETA: 0s - loss: 0.017 - 5s 286us/step - loss: 0.0178\n",
      "\n",
      "Epoch 00033: loss improved from 0.02126 to 0.01783, saving model to models\\weights-improvement-33-bigger.hdf5\n",
      "Epoch 34/50\n",
      "17286/17286 [==============================] - ETA: 4s - loss: 0.010 - ETA: 4s - loss: 0.015 - ETA: 4s - loss: 0.014 - ETA: 4s - loss: 0.013 - ETA: 4s - loss: 0.013 - ETA: 4s - loss: 0.014 - ETA: 3s - loss: 0.014 - ETA: 3s - loss: 0.013 - ETA: 3s - loss: 0.013 - ETA: 3s - loss: 0.015 - ETA: 3s - loss: 0.015 - ETA: 3s - loss: 0.014 - ETA: 3s - loss: 0.014 - ETA: 2s - loss: 0.014 - ETA: 2s - loss: 0.014 - ETA: 2s - loss: 0.014 - ETA: 2s - loss: 0.014 - ETA: 2s - loss: 0.014 - ETA: 2s - loss: 0.014 - ETA: 2s - loss: 0.014 - ETA: 1s - loss: 0.014 - ETA: 1s - loss: 0.014 - ETA: 1s - loss: 0.014 - ETA: 1s - loss: 0.014 - ETA: 1s - loss: 0.014 - ETA: 1s - loss: 0.014 - ETA: 0s - loss: 0.014 - ETA: 0s - loss: 0.014 - ETA: 0s - loss: 0.014 - ETA: 0s - loss: 0.014 - ETA: 0s - loss: 0.014 - ETA: 0s - loss: 0.014 - ETA: 0s - loss: 0.014 - 5s 286us/step - loss: 0.0145\n",
      "\n",
      "Epoch 00034: loss improved from 0.01783 to 0.01454, saving model to models\\weights-improvement-34-bigger.hdf5\n",
      "Epoch 35/50\n",
      "17286/17286 [==============================] - ETA: 4s - loss: 0.011 - ETA: 4s - loss: 0.020 - ETA: 4s - loss: 0.020 - ETA: 4s - loss: 0.019 - ETA: 4s - loss: 0.017 - ETA: 4s - loss: 0.016 - ETA: 3s - loss: 0.017 - ETA: 3s - loss: 0.016 - ETA: 3s - loss: 0.015 - ETA: 3s - loss: 0.015 - ETA: 3s - loss: 0.015 - ETA: 3s - loss: 0.014 - ETA: 3s - loss: 0.014 - ETA: 2s - loss: 0.014 - ETA: 2s - loss: 0.014 - ETA: 2s - loss: 0.014 - ETA: 2s - loss: 0.014 - ETA: 2s - loss: 0.014 - ETA: 2s - loss: 0.014 - ETA: 2s - loss: 0.013 - ETA: 1s - loss: 0.013 - ETA: 1s - loss: 0.013 - ETA: 1s - loss: 0.013 - ETA: 1s - loss: 0.013 - ETA: 1s - loss: 0.013 - ETA: 1s - loss: 0.013 - ETA: 1s - loss: 0.012 - ETA: 0s - loss: 0.012 - ETA: 0s - loss: 0.012 - ETA: 0s - loss: 0.012 - ETA: 0s - loss: 0.013 - ETA: 0s - loss: 0.012 - ETA: 0s - loss: 0.013 - 5s 290us/step - loss: 0.0130\n",
      "\n",
      "Epoch 00035: loss improved from 0.01454 to 0.01299, saving model to models\\weights-improvement-35-bigger.hdf5\n",
      "Epoch 36/50\n",
      "17286/17286 [==============================] - ETA: 4s - loss: 0.011 - ETA: 4s - loss: 0.009 - ETA: 4s - loss: 0.010 - ETA: 4s - loss: 0.010 - ETA: 4s - loss: 0.011 - ETA: 4s - loss: 0.011 - ETA: 3s - loss: 0.010 - ETA: 3s - loss: 0.011 - ETA: 3s - loss: 0.011 - ETA: 3s - loss: 0.012 - ETA: 3s - loss: 0.012 - ETA: 3s - loss: 0.012 - ETA: 3s - loss: 0.012 - ETA: 2s - loss: 0.012 - ETA: 2s - loss: 0.012 - ETA: 2s - loss: 0.012 - ETA: 2s - loss: 0.012 - ETA: 2s - loss: 0.012 - ETA: 2s - loss: 0.012 - ETA: 2s - loss: 0.012 - ETA: 1s - loss: 0.012 - ETA: 1s - loss: 0.012 - ETA: 1s - loss: 0.011 - ETA: 1s - loss: 0.012 - ETA: 1s - loss: 0.012 - ETA: 1s - loss: 0.012 - ETA: 0s - loss: 0.012 - ETA: 0s - loss: 0.012 - ETA: 0s - loss: 0.012 - ETA: 0s - loss: 0.012 - ETA: 0s - loss: 0.012 - ETA: 0s - loss: 0.012 - ETA: 0s - loss: 0.012 - 5s 288us/step - loss: 0.0128\n",
      "\n",
      "Epoch 00036: loss improved from 0.01299 to 0.01277, saving model to models\\weights-improvement-36-bigger.hdf5\n",
      "Epoch 37/50\n",
      "17286/17286 [==============================] - ETA: 4s - loss: 0.010 - ETA: 4s - loss: 0.015 - ETA: 4s - loss: 0.020 - ETA: 4s - loss: 0.023 - ETA: 4s - loss: 0.020 - ETA: 4s - loss: 0.019 - ETA: 3s - loss: 0.019 - ETA: 3s - loss: 0.019 - ETA: 3s - loss: 0.018 - ETA: 3s - loss: 0.017 - ETA: 3s - loss: 0.016 - ETA: 3s - loss: 0.016 - ETA: 3s - loss: 0.016 - ETA: 2s - loss: 0.017 - ETA: 2s - loss: 0.018 - ETA: 2s - loss: 0.018 - ETA: 2s - loss: 0.018 - ETA: 2s - loss: 0.018 - ETA: 2s - loss: 0.018 - ETA: 2s - loss: 0.019 - ETA: 1s - loss: 0.019 - ETA: 1s - loss: 0.018 - ETA: 1s - loss: 0.018 - ETA: 1s - loss: 0.019 - ETA: 1s - loss: 0.018 - ETA: 1s - loss: 0.018 - ETA: 1s - loss: 0.018 - ETA: 0s - loss: 0.018 - ETA: 0s - loss: 0.018 - ETA: 0s - loss: 0.018 - ETA: 0s - loss: 0.018 - ETA: 0s - loss: 0.018 - ETA: 0s - loss: 0.018 - 5s 290us/step - loss: 0.0185\n",
      "\n",
      "Epoch 00037: loss did not improve from 0.01277\n",
      "Epoch 38/50\n",
      "17286/17286 [==============================] - ETA: 4s - loss: 0.011 - ETA: 4s - loss: 0.011 - ETA: 4s - loss: 0.010 - ETA: 4s - loss: 0.015 - ETA: 4s - loss: 0.014 - ETA: 4s - loss: 0.013 - ETA: 3s - loss: 0.017 - ETA: 3s - loss: 0.018 - ETA: 3s - loss: 0.018 - ETA: 3s - loss: 0.019 - ETA: 3s - loss: 0.020 - ETA: 3s - loss: 0.019 - ETA: 3s - loss: 0.020 - ETA: 2s - loss: 0.020 - ETA: 2s - loss: 0.020 - ETA: 2s - loss: 0.019 - ETA: 2s - loss: 0.019 - ETA: 2s - loss: 0.020 - ETA: 2s - loss: 0.019 - ETA: 2s - loss: 0.021 - ETA: 1s - loss: 0.022 - ETA: 1s - loss: 0.022 - ETA: 1s - loss: 0.022 - ETA: 1s - loss: 0.024 - ETA: 1s - loss: 0.024 - ETA: 1s - loss: 0.024 - ETA: 0s - loss: 0.024 - ETA: 0s - loss: 0.024 - ETA: 0s - loss: 0.024 - ETA: 0s - loss: 0.024 - ETA: 0s - loss: 0.025 - ETA: 0s - loss: 0.025 - ETA: 0s - loss: 0.025 - 5s 287us/step - loss: 0.0258\n",
      "\n",
      "Epoch 00038: loss did not improve from 0.01277\n",
      "Epoch 39/50\n",
      "17286/17286 [==============================] - ETA: 4s - loss: 0.025 - ETA: 4s - loss: 0.039 - ETA: 4s - loss: 0.039 - ETA: 4s - loss: 0.038 - ETA: 4s - loss: 0.032 - ETA: 4s - loss: 0.034 - ETA: 3s - loss: 0.031 - ETA: 3s - loss: 0.029 - ETA: 3s - loss: 0.029 - ETA: 3s - loss: 0.027 - ETA: 3s - loss: 0.026 - ETA: 3s - loss: 0.026 - ETA: 3s - loss: 0.026 - ETA: 2s - loss: 0.026 - ETA: 2s - loss: 0.026 - ETA: 2s - loss: 0.025 - ETA: 2s - loss: 0.025 - ETA: 2s - loss: 0.025 - ETA: 2s - loss: 0.025 - ETA: 2s - loss: 0.024 - ETA: 1s - loss: 0.024 - ETA: 1s - loss: 0.024 - ETA: 1s - loss: 0.024 - ETA: 1s - loss: 0.024 - ETA: 1s - loss: 0.024 - ETA: 1s - loss: 0.024 - ETA: 0s - loss: 0.024 - ETA: 0s - loss: 0.024 - ETA: 0s - loss: 0.024 - ETA: 0s - loss: 0.024 - ETA: 0s - loss: 0.024 - ETA: 0s - loss: 0.024 - ETA: 0s - loss: 0.025 - 5s 286us/step - loss: 0.0251\n",
      "\n",
      "Epoch 00039: loss did not improve from 0.01277\n",
      "Epoch 40/50\n",
      "17286/17286 [==============================] - ETA: 4s - loss: 0.034 - ETA: 4s - loss: 0.028 - ETA: 4s - loss: 0.035 - ETA: 4s - loss: 0.028 - ETA: 4s - loss: 0.025 - ETA: 4s - loss: 0.024 - ETA: 3s - loss: 0.022 - ETA: 3s - loss: 0.024 - ETA: 3s - loss: 0.024 - ETA: 3s - loss: 0.025 - ETA: 3s - loss: 0.023 - ETA: 3s - loss: 0.022 - ETA: 3s - loss: 0.021 - ETA: 2s - loss: 0.021 - ETA: 2s - loss: 0.021 - ETA: 2s - loss: 0.021 - ETA: 2s - loss: 0.021 - ETA: 2s - loss: 0.021 - ETA: 2s - loss: 0.020 - ETA: 2s - loss: 0.020 - ETA: 1s - loss: 0.019 - ETA: 1s - loss: 0.019 - ETA: 1s - loss: 0.019 - ETA: 1s - loss: 0.019 - ETA: 1s - loss: 0.019 - ETA: 1s - loss: 0.019 - ETA: 0s - loss: 0.019 - ETA: 0s - loss: 0.019 - ETA: 0s - loss: 0.019 - ETA: 0s - loss: 0.019 - ETA: 0s - loss: 0.018 - ETA: 0s - loss: 0.019 - ETA: 0s - loss: 0.018 - 5s 287us/step - loss: 0.0186\n",
      "\n",
      "Epoch 00040: loss did not improve from 0.01277\n",
      "Epoch 41/50\n",
      "17286/17286 [==============================] - ETA: 4s - loss: 0.013 - ETA: 4s - loss: 0.013 - ETA: 4s - loss: 0.010 - ETA: 4s - loss: 0.009 - ETA: 4s - loss: 0.009 - ETA: 4s - loss: 0.009 - ETA: 3s - loss: 0.009 - ETA: 3s - loss: 0.008 - ETA: 3s - loss: 0.008 - ETA: 3s - loss: 0.008 - ETA: 3s - loss: 0.010 - ETA: 3s - loss: 0.009 - ETA: 3s - loss: 0.010 - ETA: 2s - loss: 0.010 - ETA: 2s - loss: 0.010 - ETA: 2s - loss: 0.010 - ETA: 2s - loss: 0.010 - ETA: 2s - loss: 0.010 - ETA: 2s - loss: 0.010 - ETA: 2s - loss: 0.010 - ETA: 1s - loss: 0.010 - ETA: 1s - loss: 0.010 - ETA: 1s - loss: 0.010 - ETA: 1s - loss: 0.010 - ETA: 1s - loss: 0.010 - ETA: 1s - loss: 0.010 - ETA: 0s - loss: 0.011 - ETA: 0s - loss: 0.010 - ETA: 0s - loss: 0.011 - ETA: 0s - loss: 0.011 - ETA: 0s - loss: 0.011 - ETA: 0s - loss: 0.010 - ETA: 0s - loss: 0.010 - 5s 286us/step - loss: 0.0108\n",
      "\n",
      "Epoch 00041: loss improved from 0.01277 to 0.01083, saving model to models\\weights-improvement-41-bigger.hdf5\n",
      "Epoch 42/50\n",
      "17286/17286 [==============================] - ETA: 4s - loss: 0.005 - ETA: 4s - loss: 0.005 - ETA: 4s - loss: 0.005 - ETA: 4s - loss: 0.005 - ETA: 4s - loss: 0.006 - ETA: 4s - loss: 0.006 - ETA: 3s - loss: 0.006 - ETA: 3s - loss: 0.007 - ETA: 3s - loss: 0.007 - ETA: 3s - loss: 0.007 - ETA: 3s - loss: 0.007 - ETA: 3s - loss: 0.006 - ETA: 3s - loss: 0.006 - ETA: 2s - loss: 0.006 - ETA: 2s - loss: 0.006 - ETA: 2s - loss: 0.006 - ETA: 2s - loss: 0.006 - ETA: 2s - loss: 0.006 - ETA: 2s - loss: 0.006 - ETA: 2s - loss: 0.006 - ETA: 1s - loss: 0.006 - ETA: 1s - loss: 0.006 - ETA: 1s - loss: 0.006 - ETA: 1s - loss: 0.006 - ETA: 1s - loss: 0.006 - ETA: 1s - loss: 0.007 - ETA: 0s - loss: 0.007 - ETA: 0s - loss: 0.007 - ETA: 0s - loss: 0.007 - ETA: 0s - loss: 0.007 - ETA: 0s - loss: 0.006 - ETA: 0s - loss: 0.006 - ETA: 0s - loss: 0.006 - 5s 286us/step - loss: 0.0068\n",
      "\n",
      "Epoch 00042: loss improved from 0.01083 to 0.00677, saving model to models\\weights-improvement-42-bigger.hdf5\n",
      "Epoch 43/50\n",
      "17286/17286 [==============================] - ETA: 4s - loss: 0.003 - ETA: 4s - loss: 0.004 - ETA: 4s - loss: 0.006 - ETA: 4s - loss: 0.007 - ETA: 4s - loss: 0.008 - ETA: 4s - loss: 0.008 - ETA: 3s - loss: 0.007 - ETA: 3s - loss: 0.007 - ETA: 3s - loss: 0.007 - ETA: 3s - loss: 0.009 - ETA: 3s - loss: 0.009 - ETA: 3s - loss: 0.009 - ETA: 3s - loss: 0.008 - ETA: 2s - loss: 0.008 - ETA: 2s - loss: 0.008 - ETA: 2s - loss: 0.008 - ETA: 2s - loss: 0.008 - ETA: 2s - loss: 0.008 - ETA: 2s - loss: 0.008 - ETA: 2s - loss: 0.008 - ETA: 1s - loss: 0.007 - ETA: 1s - loss: 0.007 - ETA: 1s - loss: 0.007 - ETA: 1s - loss: 0.007 - ETA: 1s - loss: 0.007 - ETA: 1s - loss: 0.007 - ETA: 0s - loss: 0.007 - ETA: 0s - loss: 0.007 - ETA: 0s - loss: 0.007 - ETA: 0s - loss: 0.007 - ETA: 0s - loss: 0.007 - ETA: 0s - loss: 0.007 - ETA: 0s - loss: 0.007 - 5s 286us/step - loss: 0.0072\n",
      "\n",
      "Epoch 00043: loss did not improve from 0.00677\n",
      "Epoch 44/50\n",
      "17286/17286 [==============================] - ETA: 4s - loss: 0.016 - ETA: 4s - loss: 0.011 - ETA: 4s - loss: 0.008 - ETA: 4s - loss: 0.006 - ETA: 4s - loss: 0.006 - ETA: 4s - loss: 0.010 - ETA: 3s - loss: 0.011 - ETA: 3s - loss: 0.010 - ETA: 3s - loss: 0.009 - ETA: 3s - loss: 0.010 - ETA: 3s - loss: 0.010 - ETA: 3s - loss: 0.012 - ETA: 3s - loss: 0.012 - ETA: 2s - loss: 0.011 - ETA: 2s - loss: 0.011 - ETA: 2s - loss: 0.011 - ETA: 2s - loss: 0.011 - ETA: 2s - loss: 0.010 - ETA: 2s - loss: 0.011 - ETA: 2s - loss: 0.010 - ETA: 1s - loss: 0.010 - ETA: 1s - loss: 0.010 - ETA: 1s - loss: 0.010 - ETA: 1s - loss: 0.010 - ETA: 1s - loss: 0.010 - ETA: 1s - loss: 0.010 - ETA: 0s - loss: 0.010 - ETA: 0s - loss: 0.010 - ETA: 0s - loss: 0.010 - ETA: 0s - loss: 0.010 - ETA: 0s - loss: 0.010 - ETA: 0s - loss: 0.010 - ETA: 0s - loss: 0.010 - 5s 286us/step - loss: 0.0101\n",
      "\n",
      "Epoch 00044: loss did not improve from 0.00677\n",
      "Epoch 45/50\n",
      "17286/17286 [==============================] - ETA: 4s - loss: 0.018 - ETA: 4s - loss: 0.010 - ETA: 4s - loss: 0.012 - ETA: 4s - loss: 0.009 - ETA: 4s - loss: 0.013 - ETA: 4s - loss: 0.011 - ETA: 3s - loss: 0.010 - ETA: 3s - loss: 0.010 - ETA: 3s - loss: 0.010 - ETA: 3s - loss: 0.010 - ETA: 3s - loss: 0.009 - ETA: 3s - loss: 0.009 - ETA: 3s - loss: 0.010 - ETA: 2s - loss: 0.009 - ETA: 2s - loss: 0.010 - ETA: 2s - loss: 0.010 - ETA: 2s - loss: 0.010 - ETA: 2s - loss: 0.010 - ETA: 2s - loss: 0.010 - ETA: 2s - loss: 0.009 - ETA: 1s - loss: 0.009 - ETA: 1s - loss: 0.010 - ETA: 1s - loss: 0.009 - ETA: 1s - loss: 0.009 - ETA: 1s - loss: 0.010 - ETA: 1s - loss: 0.010 - ETA: 0s - loss: 0.010 - ETA: 0s - loss: 0.010 - ETA: 0s - loss: 0.010 - ETA: 0s - loss: 0.010 - ETA: 0s - loss: 0.011 - ETA: 0s - loss: 0.011 - ETA: 0s - loss: 0.011 - 5s 286us/step - loss: 0.0112\n",
      "\n",
      "Epoch 00045: loss did not improve from 0.00677\n",
      "Epoch 46/50\n",
      "17286/17286 [==============================] - ETA: 4s - loss: 0.004 - ETA: 4s - loss: 0.009 - ETA: 4s - loss: 0.007 - ETA: 4s - loss: 0.008 - ETA: 4s - loss: 0.008 - ETA: 4s - loss: 0.011 - ETA: 3s - loss: 0.011 - ETA: 3s - loss: 0.011 - ETA: 3s - loss: 0.011 - ETA: 3s - loss: 0.013 - ETA: 3s - loss: 0.014 - ETA: 3s - loss: 0.013 - ETA: 3s - loss: 0.014 - ETA: 2s - loss: 0.013 - ETA: 2s - loss: 0.013 - ETA: 2s - loss: 0.013 - ETA: 2s - loss: 0.013 - ETA: 2s - loss: 0.014 - ETA: 2s - loss: 0.013 - ETA: 2s - loss: 0.013 - ETA: 1s - loss: 0.013 - ETA: 1s - loss: 0.013 - ETA: 1s - loss: 0.013 - ETA: 1s - loss: 0.013 - ETA: 1s - loss: 0.013 - ETA: 1s - loss: 0.013 - ETA: 0s - loss: 0.014 - ETA: 0s - loss: 0.014 - ETA: 0s - loss: 0.014 - ETA: 0s - loss: 0.014 - ETA: 0s - loss: 0.014 - ETA: 0s - loss: 0.014 - ETA: 0s - loss: 0.014 - 5s 286us/step - loss: 0.0141\n",
      "\n",
      "Epoch 00046: loss did not improve from 0.00677\n",
      "Epoch 47/50\n",
      "17286/17286 [==============================] - ETA: 4s - loss: 0.025 - ETA: 4s - loss: 0.023 - ETA: 4s - loss: 0.016 - ETA: 4s - loss: 0.015 - ETA: 4s - loss: 0.016 - ETA: 4s - loss: 0.015 - ETA: 3s - loss: 0.020 - ETA: 3s - loss: 0.021 - ETA: 3s - loss: 0.020 - ETA: 3s - loss: 0.020 - ETA: 3s - loss: 0.020 - ETA: 3s - loss: 0.020 - ETA: 3s - loss: 0.021 - ETA: 2s - loss: 0.022 - ETA: 2s - loss: 0.021 - ETA: 2s - loss: 0.021 - ETA: 2s - loss: 0.020 - ETA: 2s - loss: 0.020 - ETA: 2s - loss: 0.020 - ETA: 2s - loss: 0.019 - ETA: 1s - loss: 0.019 - ETA: 1s - loss: 0.019 - ETA: 1s - loss: 0.019 - ETA: 1s - loss: 0.019 - ETA: 1s - loss: 0.020 - ETA: 1s - loss: 0.020 - ETA: 0s - loss: 0.020 - ETA: 0s - loss: 0.020 - ETA: 0s - loss: 0.020 - ETA: 0s - loss: 0.020 - ETA: 0s - loss: 0.020 - ETA: 0s - loss: 0.020 - ETA: 0s - loss: 0.020 - 5s 287us/step - loss: 0.0199\n",
      "\n",
      "Epoch 00047: loss did not improve from 0.00677\n",
      "Epoch 48/50\n",
      "17286/17286 [==============================] - ETA: 4s - loss: 0.013 - ETA: 4s - loss: 0.020 - ETA: 4s - loss: 0.016 - ETA: 4s - loss: 0.016 - ETA: 4s - loss: 0.019 - ETA: 4s - loss: 0.022 - ETA: 3s - loss: 0.019 - ETA: 3s - loss: 0.019 - ETA: 3s - loss: 0.021 - ETA: 3s - loss: 0.019 - ETA: 3s - loss: 0.019 - ETA: 3s - loss: 0.020 - ETA: 3s - loss: 0.020 - ETA: 2s - loss: 0.020 - ETA: 2s - loss: 0.020 - ETA: 2s - loss: 0.020 - ETA: 2s - loss: 0.019 - ETA: 2s - loss: 0.019 - ETA: 2s - loss: 0.019 - ETA: 2s - loss: 0.019 - ETA: 1s - loss: 0.019 - ETA: 1s - loss: 0.021 - ETA: 1s - loss: 0.020 - ETA: 1s - loss: 0.021 - ETA: 1s - loss: 0.021 - ETA: 1s - loss: 0.021 - ETA: 0s - loss: 0.021 - ETA: 0s - loss: 0.021 - ETA: 0s - loss: 0.021 - ETA: 0s - loss: 0.021 - ETA: 0s - loss: 0.020 - ETA: 0s - loss: 0.020 - ETA: 0s - loss: 0.020 - 5s 286us/step - loss: 0.0211\n",
      "\n",
      "Epoch 00048: loss did not improve from 0.00677\n",
      "Epoch 49/50\n"
     ]
    },
    {
     "name": "stdout",
     "output_type": "stream",
     "text": [
      "17286/17286 [==============================] - ETA: 4s - loss: 0.030 - ETA: 4s - loss: 0.030 - ETA: 4s - loss: 0.025 - ETA: 4s - loss: 0.021 - ETA: 4s - loss: 0.017 - ETA: 4s - loss: 0.016 - ETA: 3s - loss: 0.019 - ETA: 3s - loss: 0.017 - ETA: 3s - loss: 0.020 - ETA: 3s - loss: 0.020 - ETA: 3s - loss: 0.021 - ETA: 3s - loss: 0.022 - ETA: 3s - loss: 0.022 - ETA: 2s - loss: 0.022 - ETA: 2s - loss: 0.022 - ETA: 2s - loss: 0.022 - ETA: 2s - loss: 0.022 - ETA: 2s - loss: 0.022 - ETA: 2s - loss: 0.021 - ETA: 2s - loss: 0.021 - ETA: 1s - loss: 0.021 - ETA: 1s - loss: 0.021 - ETA: 1s - loss: 0.021 - ETA: 1s - loss: 0.022 - ETA: 1s - loss: 0.022 - ETA: 1s - loss: 0.021 - ETA: 0s - loss: 0.022 - ETA: 0s - loss: 0.021 - ETA: 0s - loss: 0.021 - ETA: 0s - loss: 0.021 - ETA: 0s - loss: 0.021 - ETA: 0s - loss: 0.021 - ETA: 0s - loss: 0.021 - 5s 287us/step - loss: 0.0214\n",
      "\n",
      "Epoch 00049: loss did not improve from 0.00677\n",
      "Epoch 50/50\n",
      "17286/17286 [==============================] - ETA: 4s - loss: 0.006 - ETA: 4s - loss: 0.008 - ETA: 4s - loss: 0.007 - ETA: 4s - loss: 0.007 - ETA: 4s - loss: 0.009 - ETA: 4s - loss: 0.010 - ETA: 4s - loss: 0.010 - ETA: 3s - loss: 0.012 - ETA: 3s - loss: 0.012 - ETA: 3s - loss: 0.012 - ETA: 3s - loss: 0.012 - ETA: 3s - loss: 0.011 - ETA: 3s - loss: 0.012 - ETA: 2s - loss: 0.012 - ETA: 2s - loss: 0.012 - ETA: 2s - loss: 0.013 - ETA: 2s - loss: 0.014 - ETA: 2s - loss: 0.014 - ETA: 2s - loss: 0.015 - ETA: 2s - loss: 0.015 - ETA: 1s - loss: 0.015 - ETA: 1s - loss: 0.015 - ETA: 1s - loss: 0.016 - ETA: 1s - loss: 0.016 - ETA: 1s - loss: 0.016 - ETA: 1s - loss: 0.017 - ETA: 0s - loss: 0.017 - ETA: 0s - loss: 0.017 - ETA: 0s - loss: 0.018 - ETA: 0s - loss: 0.018 - ETA: 0s - loss: 0.017 - ETA: 0s - loss: 0.017 - ETA: 0s - loss: 0.017 - 5s 288us/step - loss: 0.0175\n",
      "\n",
      "Epoch 00050: loss did not improve from 0.00677\n"
     ]
    },
    {
     "data": {
      "text/plain": [
       "<keras.callbacks.History at 0x18c8c48a8d0>"
      ]
     },
     "execution_count": 101,
     "metadata": {},
     "output_type": "execute_result"
    }
   ],
   "source": [
    "filepath = os.path.join('models', \"weights-improvement-{epoch:02d}-bigger.hdf5\")\n",
    "checkpoint = ModelCheckpoint(filepath, monitor='loss', verbose=1, save_best_only=True, mode='min')\n",
    "\n",
    "model_name = 'first_lstm'\n",
    "model_folder = os.path.join('tensorlogs', model_name + \"-logs/\")\n",
    "\n",
    "if not os.path.isdir(model_folder):\n",
    "    n_logs = 0\n",
    "else:\n",
    "    n_logs = len(os.listdir(model_folder))\n",
    "    \n",
    "tensorboard_logs = os.path.join(model_folder, \"%inth_run\"%n_logs)\n",
    "tensorboard_callback = keras.callbacks.TensorBoard(log_dir=tensorboard_logs, write_graph=False)\n",
    "callbacks = [checkpoint, tensorboard_callback]\n",
    "\n",
    "model = make_model((trainX.shape[1], trainX.shape[2]), trainY.shape[-1])\n",
    "\n",
    "model.fit(trainX, trainY, epochs=50, batch_size=512, callbacks=callbacks)\n"
   ]
  },
  {
   "cell_type": "code",
   "execution_count": 102,
   "metadata": {},
   "outputs": [],
   "source": [
    "output = model.predict_classes(testX)"
   ]
  },
  {
   "cell_type": "code",
   "execution_count": 103,
   "metadata": {},
   "outputs": [
    {
     "data": {
      "text/plain": [
       "0.9979173897952099"
      ]
     },
     "execution_count": 103,
     "metadata": {},
     "output_type": "execute_result"
    }
   ],
   "source": [
    "(output == testY.argmax(axis=1)).sum()/len(output)"
   ]
  },
  {
   "cell_type": "code",
   "execution_count": 104,
   "metadata": {},
   "outputs": [
    {
     "data": {
      "text/plain": [
       "array([[ 2830,    21,     1,     0,     0],\n",
       "       [    1, 13099,     1,     8,     3],\n",
       "       [    0,     1,   637,     0,     0],\n",
       "       [    0,     0,     0,   452,     0],\n",
       "       [    0,     0,     0,     0,   232]], dtype=int64)"
      ]
     },
     "execution_count": 104,
     "metadata": {},
     "output_type": "execute_result"
    }
   ],
   "source": [
    "confusion_matrix(testY.argmax(axis=1), output)"
   ]
  },
  {
   "cell_type": "code",
   "execution_count": 19,
   "metadata": {},
   "outputs": [
    {
     "data": {
      "image/png": "[encoded data removed]",
      "text/plain": [
       "<Figure size 432x288 with 1 Axes>"
      ]
     },
     "metadata": {},
     "output_type": "display_data"
    }
   ],
   "source": [
    "channel = channels[1]\n",
    "plt.plot(df_healthy.iloc[3][channel][0:window_size])\n",
    "plt.plot(df_myo.iloc[4][channel][0:window_size])\n",
    "plt.plot(df_dys.iloc[2][channel][0:window_size])\n",
    "plt.show()"
   ]
  },
  {
   "cell_type": "code",
   "execution_count": 68,
   "metadata": {},
   "outputs": [],
   "source": [
    "record.label = comments_to_dict(record.comments)['Reason for admission']"
   ]
  },
  {
   "cell_type": "code",
   "execution_count": 69,
   "metadata": {},
   "outputs": [
    {
     "data": {
      "text/plain": [
       "' Myocardial infarction'"
      ]
     },
     "execution_count": 69,
     "metadata": {},
     "output_type": "execute_result"
    }
   ],
   "source": [
    "record.label"
   ]
  },
  {
   "cell_type": "code",
   "execution_count": 66,
   "metadata": {},
   "outputs": [
    {
     "data": {
      "text/plain": [
       "{'Acute infarction (localization)': ' infero-latera',\n",
       " 'Additional diagnoses': ' Diabetes mellitus',\n",
       " 'Additional medication': ' Heparin Isosorbit-Mononitrate ASA Diazepam',\n",
       " 'Admission date': ' 29-Sep-90',\n",
       " 'Aorta (at rest) (syst/diast)': ' 160/64 cmH2O',\n",
       " 'Aorta (at rest) mean': ' 106 cmH2O',\n",
       " 'Cardiac index (at rest)': ' n/a',\n",
       " 'Cardiac index (load)': ' n/a',\n",
       " 'Cardiac output (at rest)': ' n/a',\n",
       " 'Cardiac output (load)': ' n/a',\n",
       " 'Catheterization date': ' 16-Oct-90',\n",
       " 'Chest X-ray': ' Heart size upper limit of norm',\n",
       " 'Diagnose': '',\n",
       " 'Dosage (lytic agent)': ' 30 mg',\n",
       " 'ECG date': ' 18/10/1990',\n",
       " 'Echocardiography': ' n/a',\n",
       " 'Former infarction (localization)': ' no',\n",
       " 'Hemodynamics': '',\n",
       " 'In hospital medication': ' ASA Isosorbit-Mononitrate Ca-antagonist Amiloride+Chlorothiazide Glibenclamide Insulin',\n",
       " 'Infarction date': ' 29-Sep-90',\n",
       " 'Infarction date (acute)': ' 29-Sep-90',\n",
       " 'Left coronary artery stenoses (RCX)': ' No stenoses',\n",
       " 'Left coronary artery stenoses (RIVA)': ' RIVA 70% proximal to ramus diagonalis_2',\n",
       " 'Left ventricular enddiastolic pressure': ' 11 cmH2O',\n",
       " 'Lytic agent': ' Gamma-TPA',\n",
       " 'Medication after discharge': ' ASA Isosorbit-Mononitrate Amiloride+Chlorothiazide Glibenclamide',\n",
       " 'Medication pre admission': ' Isosorbit-Dinitrate Digoxin Glibenclamide',\n",
       " 'Number of coronary vessels involved': ' 1',\n",
       " 'Peripheral blood Pressure (syst/diast)': '  140/80 mmHg',\n",
       " 'Previous infarction (1) date': ' n/a',\n",
       " 'Previous infarction (2) date': ' n/a',\n",
       " 'Pulmonary artery pressure (at rest) (mean)': ' n/a',\n",
       " 'Pulmonary artery pressure (at rest) (syst/diast)': ' n/a',\n",
       " 'Pulmonary artery pressure (laod) (mean)': ' n/a',\n",
       " 'Pulmonary artery pressure (laod) (syst/diast)': ' n/a',\n",
       " 'Pulmonary capillary wedge pressure (at rest)': ' n/a',\n",
       " 'Pulmonary capillary wedge pressure (load)': ' n/a',\n",
       " 'Reason for admission': ' Myocardial infarction',\n",
       " 'Right coronary artery stenoses (RCA)': ' No stenoses',\n",
       " 'Smoker': ' no',\n",
       " 'Start lysis therapy (hh.mm)': ' 19',\n",
       " 'Stroke volume index (at rest)': ' n/a',\n",
       " 'Stroke volume index (load)': ' n/a',\n",
       " 'Therapy': '',\n",
       " 'Ventriculography': ' Akinesia inferior wall',\n",
       " 'age': ' 81',\n",
       " 'sex': ' female'}"
      ]
     },
     "execution_count": 66,
     "metadata": {},
     "output_type": "execute_result"
    }
   ],
   "source": [
    "comments_to_dict(record.comments)"
   ]
  },
  {
   "cell_type": "code",
   "execution_count": 4,
   "metadata": {},
   "outputs": [
    {
     "name": "stdout",
     "output_type": "stream",
     "text": [
      "Downloading files...\n",
      "Finished downloading files\n"
     ]
    }
   ],
   "source": [
    "io.dl_database(db, 'data', records)"
   ]
  }
 ],
 "metadata": {
  "kernelspec": {
   "display_name": "Python [conda env:tensorflow]",
   "language": "python",
   "name": "conda-env-tensorflow-py"
  },
  "language_info": {
   "codemirror_mode": {
    "name": "ipython",
    "version": 3
   },
   "file_extension": ".py",
   "mimetype": "text/x-python",
   "name": "python",
   "nbconvert_exporter": "python",
   "pygments_lexer": "ipython3",
   "version": "3.5.5"
  }
 },
 "nbformat": 4,
 "nbformat_minor": 2
}
